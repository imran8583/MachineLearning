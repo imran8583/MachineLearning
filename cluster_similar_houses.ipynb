{
 "cells": [
  {
   "cell_type": "code",
   "execution_count": 1,
   "metadata": {},
   "outputs": [],
   "source": [
    "import pandas as pd\n",
    "import numpy as np"
   ]
  },
  {
   "cell_type": "code",
   "execution_count": 2,
   "metadata": {},
   "outputs": [],
   "source": [
    "df = pd.read_csv(r\"https://raw.githubusercontent.com/edyoda/data-science-complete-tutorial/master/Data/house_rental_data.csv.txt\")"
   ]
  },
  {
   "cell_type": "code",
   "execution_count": 4,
   "metadata": {},
   "outputs": [
    {
     "data": {
      "text/plain": [
       "(645, 8)"
      ]
     },
     "execution_count": 4,
     "metadata": {},
     "output_type": "execute_result"
    }
   ],
   "source": [
    "df.shape"
   ]
  },
  {
   "cell_type": "code",
   "execution_count": 3,
   "metadata": {},
   "outputs": [
    {
     "data": {
      "text/html": [
       "<div>\n",
       "<style scoped>\n",
       "    .dataframe tbody tr th:only-of-type {\n",
       "        vertical-align: middle;\n",
       "    }\n",
       "\n",
       "    .dataframe tbody tr th {\n",
       "        vertical-align: top;\n",
       "    }\n",
       "\n",
       "    .dataframe thead th {\n",
       "        text-align: right;\n",
       "    }\n",
       "</style>\n",
       "<table border=\"1\" class=\"dataframe\">\n",
       "  <thead>\n",
       "    <tr style=\"text-align: right;\">\n",
       "      <th></th>\n",
       "      <th>Unnamed: 0</th>\n",
       "      <th>Sqft</th>\n",
       "      <th>Floor</th>\n",
       "      <th>TotalFloor</th>\n",
       "      <th>Bedroom</th>\n",
       "      <th>Living.Room</th>\n",
       "      <th>Bathroom</th>\n",
       "      <th>Price</th>\n",
       "    </tr>\n",
       "  </thead>\n",
       "  <tbody>\n",
       "    <tr>\n",
       "      <th>0</th>\n",
       "      <td>1</td>\n",
       "      <td>1177.698</td>\n",
       "      <td>2</td>\n",
       "      <td>7</td>\n",
       "      <td>2</td>\n",
       "      <td>2</td>\n",
       "      <td>2</td>\n",
       "      <td>62000</td>\n",
       "    </tr>\n",
       "    <tr>\n",
       "      <th>1</th>\n",
       "      <td>2</td>\n",
       "      <td>2134.800</td>\n",
       "      <td>5</td>\n",
       "      <td>7</td>\n",
       "      <td>4</td>\n",
       "      <td>2</td>\n",
       "      <td>2</td>\n",
       "      <td>78000</td>\n",
       "    </tr>\n",
       "    <tr>\n",
       "      <th>2</th>\n",
       "      <td>3</td>\n",
       "      <td>1138.560</td>\n",
       "      <td>5</td>\n",
       "      <td>7</td>\n",
       "      <td>2</td>\n",
       "      <td>2</td>\n",
       "      <td>1</td>\n",
       "      <td>58000</td>\n",
       "    </tr>\n",
       "    <tr>\n",
       "      <th>3</th>\n",
       "      <td>4</td>\n",
       "      <td>1458.780</td>\n",
       "      <td>2</td>\n",
       "      <td>7</td>\n",
       "      <td>3</td>\n",
       "      <td>2</td>\n",
       "      <td>2</td>\n",
       "      <td>45000</td>\n",
       "    </tr>\n",
       "    <tr>\n",
       "      <th>4</th>\n",
       "      <td>5</td>\n",
       "      <td>967.776</td>\n",
       "      <td>11</td>\n",
       "      <td>14</td>\n",
       "      <td>3</td>\n",
       "      <td>2</td>\n",
       "      <td>2</td>\n",
       "      <td>45000</td>\n",
       "    </tr>\n",
       "  </tbody>\n",
       "</table>\n",
       "</div>"
      ],
      "text/plain": [
       "   Unnamed: 0      Sqft  Floor  TotalFloor  Bedroom  Living.Room  Bathroom  \\\n",
       "0           1  1177.698      2           7        2            2         2   \n",
       "1           2  2134.800      5           7        4            2         2   \n",
       "2           3  1138.560      5           7        2            2         1   \n",
       "3           4  1458.780      2           7        3            2         2   \n",
       "4           5   967.776     11          14        3            2         2   \n",
       "\n",
       "   Price  \n",
       "0  62000  \n",
       "1  78000  \n",
       "2  58000  \n",
       "3  45000  \n",
       "4  45000  "
      ]
     },
     "execution_count": 3,
     "metadata": {},
     "output_type": "execute_result"
    }
   ],
   "source": [
    "df.head()"
   ]
  },
  {
   "cell_type": "code",
   "execution_count": 5,
   "metadata": {},
   "outputs": [
    {
     "data": {
      "text/html": [
       "<div>\n",
       "<style scoped>\n",
       "    .dataframe tbody tr th:only-of-type {\n",
       "        vertical-align: middle;\n",
       "    }\n",
       "\n",
       "    .dataframe tbody tr th {\n",
       "        vertical-align: top;\n",
       "    }\n",
       "\n",
       "    .dataframe thead th {\n",
       "        text-align: right;\n",
       "    }\n",
       "</style>\n",
       "<table border=\"1\" class=\"dataframe\">\n",
       "  <thead>\n",
       "    <tr style=\"text-align: right;\">\n",
       "      <th></th>\n",
       "      <th>Unnamed: 0</th>\n",
       "      <th>Sqft</th>\n",
       "      <th>Floor</th>\n",
       "      <th>TotalFloor</th>\n",
       "      <th>Bedroom</th>\n",
       "      <th>Living.Room</th>\n",
       "      <th>Bathroom</th>\n",
       "      <th>Price</th>\n",
       "    </tr>\n",
       "  </thead>\n",
       "  <tbody>\n",
       "    <tr>\n",
       "      <th>count</th>\n",
       "      <td>645.000000</td>\n",
       "      <td>645.000000</td>\n",
       "      <td>645.000000</td>\n",
       "      <td>645.000000</td>\n",
       "      <td>645.000000</td>\n",
       "      <td>645.000000</td>\n",
       "      <td>645.000000</td>\n",
       "      <td>645.000000</td>\n",
       "    </tr>\n",
       "    <tr>\n",
       "      <th>mean</th>\n",
       "      <td>325.159690</td>\n",
       "      <td>1527.656260</td>\n",
       "      <td>5.939535</td>\n",
       "      <td>10.855814</td>\n",
       "      <td>2.837209</td>\n",
       "      <td>1.813953</td>\n",
       "      <td>1.810853</td>\n",
       "      <td>61986.823256</td>\n",
       "    </tr>\n",
       "    <tr>\n",
       "      <th>std</th>\n",
       "      <td>187.312152</td>\n",
       "      <td>767.386531</td>\n",
       "      <td>3.884721</td>\n",
       "      <td>4.996208</td>\n",
       "      <td>1.010740</td>\n",
       "      <td>0.462364</td>\n",
       "      <td>0.683574</td>\n",
       "      <td>35635.091007</td>\n",
       "    </tr>\n",
       "    <tr>\n",
       "      <th>min</th>\n",
       "      <td>1.000000</td>\n",
       "      <td>359.358000</td>\n",
       "      <td>1.000000</td>\n",
       "      <td>1.000000</td>\n",
       "      <td>1.000000</td>\n",
       "      <td>0.000000</td>\n",
       "      <td>0.000000</td>\n",
       "      <td>6100.000000</td>\n",
       "    </tr>\n",
       "    <tr>\n",
       "      <th>25%</th>\n",
       "      <td>164.000000</td>\n",
       "      <td>925.080000</td>\n",
       "      <td>3.000000</td>\n",
       "      <td>7.000000</td>\n",
       "      <td>2.000000</td>\n",
       "      <td>2.000000</td>\n",
       "      <td>1.000000</td>\n",
       "      <td>39000.000000</td>\n",
       "    </tr>\n",
       "    <tr>\n",
       "      <th>50%</th>\n",
       "      <td>326.000000</td>\n",
       "      <td>1423.200000</td>\n",
       "      <td>5.000000</td>\n",
       "      <td>12.000000</td>\n",
       "      <td>3.000000</td>\n",
       "      <td>2.000000</td>\n",
       "      <td>2.000000</td>\n",
       "      <td>50000.000000</td>\n",
       "    </tr>\n",
       "    <tr>\n",
       "      <th>75%</th>\n",
       "      <td>487.000000</td>\n",
       "      <td>1892.856000</td>\n",
       "      <td>8.000000</td>\n",
       "      <td>14.000000</td>\n",
       "      <td>4.000000</td>\n",
       "      <td>2.000000</td>\n",
       "      <td>2.000000</td>\n",
       "      <td>75000.000000</td>\n",
       "    </tr>\n",
       "    <tr>\n",
       "      <th>max</th>\n",
       "      <td>648.000000</td>\n",
       "      <td>5856.468000</td>\n",
       "      <td>22.000000</td>\n",
       "      <td>38.000000</td>\n",
       "      <td>7.000000</td>\n",
       "      <td>4.000000</td>\n",
       "      <td>5.000000</td>\n",
       "      <td>250000.000000</td>\n",
       "    </tr>\n",
       "  </tbody>\n",
       "</table>\n",
       "</div>"
      ],
      "text/plain": [
       "       Unnamed: 0         Sqft       Floor  TotalFloor     Bedroom  \\\n",
       "count  645.000000   645.000000  645.000000  645.000000  645.000000   \n",
       "mean   325.159690  1527.656260    5.939535   10.855814    2.837209   \n",
       "std    187.312152   767.386531    3.884721    4.996208    1.010740   \n",
       "min      1.000000   359.358000    1.000000    1.000000    1.000000   \n",
       "25%    164.000000   925.080000    3.000000    7.000000    2.000000   \n",
       "50%    326.000000  1423.200000    5.000000   12.000000    3.000000   \n",
       "75%    487.000000  1892.856000    8.000000   14.000000    4.000000   \n",
       "max    648.000000  5856.468000   22.000000   38.000000    7.000000   \n",
       "\n",
       "       Living.Room    Bathroom          Price  \n",
       "count   645.000000  645.000000     645.000000  \n",
       "mean      1.813953    1.810853   61986.823256  \n",
       "std       0.462364    0.683574   35635.091007  \n",
       "min       0.000000    0.000000    6100.000000  \n",
       "25%       2.000000    1.000000   39000.000000  \n",
       "50%       2.000000    2.000000   50000.000000  \n",
       "75%       2.000000    2.000000   75000.000000  \n",
       "max       4.000000    5.000000  250000.000000  "
      ]
     },
     "execution_count": 5,
     "metadata": {},
     "output_type": "execute_result"
    }
   ],
   "source": [
    "df.describe()"
   ]
  },
  {
   "cell_type": "code",
   "execution_count": 6,
   "metadata": {},
   "outputs": [
    {
     "data": {
      "text/plain": [
       "Unnamed: 0     0\n",
       "Sqft           0\n",
       "Floor          0\n",
       "TotalFloor     0\n",
       "Bedroom        0\n",
       "Living.Room    0\n",
       "Bathroom       0\n",
       "Price          0\n",
       "dtype: int64"
      ]
     },
     "execution_count": 6,
     "metadata": {},
     "output_type": "execute_result"
    }
   ],
   "source": [
    "df.isnull().sum()"
   ]
  },
  {
   "cell_type": "code",
   "execution_count": 12,
   "metadata": {},
   "outputs": [
    {
     "data": {
      "text/plain": [
       "711.600     21\n",
       "925.080     13\n",
       "2134.800    11\n",
       "1707.840    10\n",
       "2063.640    10\n",
       "889.500     10\n",
       "1423.200    10\n",
       "1487.244    10\n",
       "1245.300     9\n",
       "1352.040     9\n",
       "1779.000     8\n",
       "1067.400     8\n",
       "1889.298     7\n",
       "640.440      7\n",
       "1515.708     6\n",
       "Name: Sqft, dtype: int64"
      ]
     },
     "execution_count": 12,
     "metadata": {},
     "output_type": "execute_result"
    }
   ],
   "source": [
    "df['Sqft'].value_counts().head(15)"
   ]
  },
  {
   "cell_type": "code",
   "execution_count": 32,
   "metadata": {},
   "outputs": [
    {
     "data": {
      "text/plain": [
       "45000     47\n",
       "55000     29\n",
       "36000     25\n",
       "50000     22\n",
       "100000    17\n",
       "60000     16\n",
       "65000     16\n",
       "40000     15\n",
       "35000     15\n",
       "80000     15\n",
       "43000     15\n",
       "75000     14\n",
       "70000     13\n",
       "42000     13\n",
       "48000     12\n",
       "Name: Price, dtype: int64"
      ]
     },
     "execution_count": 32,
     "metadata": {},
     "output_type": "execute_result"
    }
   ],
   "source": [
    "df['Price'].value_counts().head(15)\n"
   ]
  },
  {
   "cell_type": "code",
   "execution_count": 42,
   "metadata": {},
   "outputs": [],
   "source": [
    "df = df.drop('Unnamed: 0', axis=1, inplace=True)"
   ]
  },
  {
   "cell_type": "code",
   "execution_count": 40,
   "metadata": {},
   "outputs": [],
   "source": [
    "import matplotlib.pyplot as plt\n",
    "import seaborn as sns"
   ]
  },
  {
   "cell_type": "code",
   "execution_count": 43,
   "metadata": {},
   "outputs": [
    {
     "data": {
      "text/plain": [
       "<AxesSubplot:>"
      ]
     },
     "execution_count": 43,
     "metadata": {},
     "output_type": "execute_result"
    },
    {
     "data": {
      "image/png": "[encoded data removed]",
      "text/plain": [
       "<Figure size 432x288 with 2 Axes>"
      ]
     },
     "metadata": {
      "needs_background": "light"
     },
     "output_type": "display_data"
    }
   ],
   "source": [
    "sns.heatmap(df.corr(), cmap='crest')\n"
   ]
  },
  {
   "cell_type": "code",
   "execution_count": 44,
   "metadata": {},
   "outputs": [
    {
     "name": "stderr",
     "output_type": "stream",
     "text": [
      "c:\\Users\\User\\anaconda3\\files\\lib\\site-packages\\seaborn\\_decorators.py:36: FutureWarning: Pass the following variables as keyword args: x, y. From version 0.12, the only valid positional argument will be `data`, and passing other arguments without an explicit keyword will result in an error or misinterpretation.\n",
      "  warnings.warn(\n"
     ]
    },
    {
     "data": {
      "text/plain": [
       "<AxesSubplot:xlabel='Sqft', ylabel='Price'>"
      ]
     },
     "execution_count": 44,
     "metadata": {},
     "output_type": "execute_result"
    },
    {
     "data": {
      "image/png": "[encoded data removed]",
      "text/plain": [
       "<Figure size 432x288 with 1 Axes>"
      ]
     },
     "metadata": {
      "needs_background": "light"
     },
     "output_type": "display_data"
    }
   ],
   "source": [
    "sns.scatterplot(df['Sqft'],df['Price'])"
   ]
  },
  {
   "cell_type": "code",
   "execution_count": 45,
   "metadata": {},
   "outputs": [
    {
     "data": {
      "text/plain": [
       "Index(['Sqft', 'Floor', 'TotalFloor', 'Bedroom', 'Living.Room', 'Bathroom',\n",
       "       'Price'],\n",
       "      dtype='object')"
      ]
     },
     "execution_count": 45,
     "metadata": {},
     "output_type": "execute_result"
    }
   ],
   "source": [
    "df.columns"
   ]
  },
  {
   "cell_type": "code",
   "execution_count": 46,
   "metadata": {},
   "outputs": [],
   "source": [
    "cols = ['Sqft', 'Bedroom', 'Living.Room', 'Bathroom', 'Price']\n",
    "new_df = df[cols]"
   ]
  },
  {
   "cell_type": "code",
   "execution_count": 52,
   "metadata": {},
   "outputs": [
    {
     "data": {
      "text/html": [
       "<div>\n",
       "<style scoped>\n",
       "    .dataframe tbody tr th:only-of-type {\n",
       "        vertical-align: middle;\n",
       "    }\n",
       "\n",
       "    .dataframe tbody tr th {\n",
       "        vertical-align: top;\n",
       "    }\n",
       "\n",
       "    .dataframe thead th {\n",
       "        text-align: right;\n",
       "    }\n",
       "</style>\n",
       "<table border=\"1\" class=\"dataframe\">\n",
       "  <thead>\n",
       "    <tr style=\"text-align: right;\">\n",
       "      <th></th>\n",
       "      <th>Sqft</th>\n",
       "      <th>Bedroom</th>\n",
       "      <th>Living.Room</th>\n",
       "      <th>Bathroom</th>\n",
       "      <th>Price</th>\n",
       "    </tr>\n",
       "  </thead>\n",
       "  <tbody>\n",
       "    <tr>\n",
       "      <th>0</th>\n",
       "      <td>1177.698</td>\n",
       "      <td>2</td>\n",
       "      <td>2</td>\n",
       "      <td>2</td>\n",
       "      <td>62000</td>\n",
       "    </tr>\n",
       "    <tr>\n",
       "      <th>1</th>\n",
       "      <td>2134.800</td>\n",
       "      <td>4</td>\n",
       "      <td>2</td>\n",
       "      <td>2</td>\n",
       "      <td>78000</td>\n",
       "    </tr>\n",
       "    <tr>\n",
       "      <th>2</th>\n",
       "      <td>1138.560</td>\n",
       "      <td>2</td>\n",
       "      <td>2</td>\n",
       "      <td>1</td>\n",
       "      <td>58000</td>\n",
       "    </tr>\n",
       "    <tr>\n",
       "      <th>3</th>\n",
       "      <td>1458.780</td>\n",
       "      <td>3</td>\n",
       "      <td>2</td>\n",
       "      <td>2</td>\n",
       "      <td>45000</td>\n",
       "    </tr>\n",
       "    <tr>\n",
       "      <th>4</th>\n",
       "      <td>967.776</td>\n",
       "      <td>3</td>\n",
       "      <td>2</td>\n",
       "      <td>2</td>\n",
       "      <td>45000</td>\n",
       "    </tr>\n",
       "  </tbody>\n",
       "</table>\n",
       "</div>"
      ],
      "text/plain": [
       "       Sqft  Bedroom  Living.Room  Bathroom  Price\n",
       "0  1177.698        2            2         2  62000\n",
       "1  2134.800        4            2         2  78000\n",
       "2  1138.560        2            2         1  58000\n",
       "3  1458.780        3            2         2  45000\n",
       "4   967.776        3            2         2  45000"
      ]
     },
     "execution_count": 52,
     "metadata": {},
     "output_type": "execute_result"
    }
   ],
   "source": [
    "new_df.head()"
   ]
  },
  {
   "cell_type": "code",
   "execution_count": 51,
   "metadata": {},
   "outputs": [
    {
     "data": {
      "text/plain": [
       "<AxesSubplot:>"
      ]
     },
     "execution_count": 51,
     "metadata": {},
     "output_type": "execute_result"
    },
    {
     "data": {
      "image/png": "[encoded data removed]",
      "text/plain": [
       "<Figure size 432x288 with 2 Axes>"
      ]
     },
     "metadata": {
      "needs_background": "light"
     },
     "output_type": "display_data"
    }
   ],
   "source": [
    "sns.heatmap(new_df.corr(), cmap='crest')"
   ]
  },
  {
   "cell_type": "code",
   "execution_count": 53,
   "metadata": {},
   "outputs": [],
   "source": [
    "from sklearn.cluster import KMeans"
   ]
  },
  {
   "cell_type": "code",
   "execution_count": 57,
   "metadata": {},
   "outputs": [
    {
     "name": "stderr",
     "output_type": "stream",
     "text": [
      "c:\\Users\\User\\anaconda3\\files\\lib\\site-packages\\sklearn\\cluster\\_kmeans.py:870: FutureWarning: The default value of `n_init` will change from 10 to 'auto' in 1.4. Set the value of `n_init` explicitly to suppress the warning\n",
      "  warnings.warn(\n",
      "c:\\Users\\User\\anaconda3\\files\\lib\\site-packages\\sklearn\\cluster\\_kmeans.py:1382: UserWarning: KMeans is known to have a memory leak on Windows with MKL, when there are less chunks than available threads. You can avoid it by setting the environment variable OMP_NUM_THREADS=3.\n",
      "  warnings.warn(\n",
      "c:\\Users\\User\\anaconda3\\files\\lib\\site-packages\\sklearn\\cluster\\_kmeans.py:870: FutureWarning: The default value of `n_init` will change from 10 to 'auto' in 1.4. Set the value of `n_init` explicitly to suppress the warning\n",
      "  warnings.warn(\n",
      "c:\\Users\\User\\anaconda3\\files\\lib\\site-packages\\sklearn\\cluster\\_kmeans.py:1382: UserWarning: KMeans is known to have a memory leak on Windows with MKL, when there are less chunks than available threads. You can avoid it by setting the environment variable OMP_NUM_THREADS=3.\n",
      "  warnings.warn(\n",
      "c:\\Users\\User\\anaconda3\\files\\lib\\site-packages\\sklearn\\cluster\\_kmeans.py:870: FutureWarning: The default value of `n_init` will change from 10 to 'auto' in 1.4. Set the value of `n_init` explicitly to suppress the warning\n",
      "  warnings.warn(\n",
      "c:\\Users\\User\\anaconda3\\files\\lib\\site-packages\\sklearn\\cluster\\_kmeans.py:1382: UserWarning: KMeans is known to have a memory leak on Windows with MKL, when there are less chunks than available threads. You can avoid it by setting the environment variable OMP_NUM_THREADS=3.\n",
      "  warnings.warn(\n",
      "c:\\Users\\User\\anaconda3\\files\\lib\\site-packages\\sklearn\\cluster\\_kmeans.py:870: FutureWarning: The default value of `n_init` will change from 10 to 'auto' in 1.4. Set the value of `n_init` explicitly to suppress the warning\n",
      "  warnings.warn(\n",
      "c:\\Users\\User\\anaconda3\\files\\lib\\site-packages\\sklearn\\cluster\\_kmeans.py:1382: UserWarning: KMeans is known to have a memory leak on Windows with MKL, when there are less chunks than available threads. You can avoid it by setting the environment variable OMP_NUM_THREADS=3.\n",
      "  warnings.warn(\n",
      "c:\\Users\\User\\anaconda3\\files\\lib\\site-packages\\sklearn\\cluster\\_kmeans.py:870: FutureWarning: The default value of `n_init` will change from 10 to 'auto' in 1.4. Set the value of `n_init` explicitly to suppress the warning\n",
      "  warnings.warn(\n",
      "c:\\Users\\User\\anaconda3\\files\\lib\\site-packages\\sklearn\\cluster\\_kmeans.py:1382: UserWarning: KMeans is known to have a memory leak on Windows with MKL, when there are less chunks than available threads. You can avoid it by setting the environment variable OMP_NUM_THREADS=3.\n",
      "  warnings.warn(\n",
      "c:\\Users\\User\\anaconda3\\files\\lib\\site-packages\\sklearn\\cluster\\_kmeans.py:870: FutureWarning: The default value of `n_init` will change from 10 to 'auto' in 1.4. Set the value of `n_init` explicitly to suppress the warning\n",
      "  warnings.warn(\n",
      "c:\\Users\\User\\anaconda3\\files\\lib\\site-packages\\sklearn\\cluster\\_kmeans.py:1382: UserWarning: KMeans is known to have a memory leak on Windows with MKL, when there are less chunks than available threads. You can avoid it by setting the environment variable OMP_NUM_THREADS=3.\n",
      "  warnings.warn(\n"
     ]
    }
   ],
   "source": [
    "klist = []\n",
    "\n",
    "for i in range(1,7):\n",
    "    model = KMeans(n_clusters=i,random_state=0)\n",
    "    model.fit(new_df)\n",
    "    klist.append(model.inertia_)"
   ]
  },
  {
   "cell_type": "code",
   "execution_count": 58,
   "metadata": {},
   "outputs": [
    {
     "data": {
      "text/plain": [
       "[818168895093.1039,\n",
       " 280633030634.023,\n",
       " 127250641849.5947,\n",
       " 80767203513.23466,\n",
       " 54475717148.69736,\n",
       " 36746669638.49069]"
      ]
     },
     "execution_count": 58,
     "metadata": {},
     "output_type": "execute_result"
    }
   ],
   "source": [
    "klist"
   ]
  },
  {
   "cell_type": "code",
   "execution_count": 59,
   "metadata": {},
   "outputs": [
    {
     "data": {
      "image/png": "[encoded data removed]",
      "text/plain": [
       "<Figure size 432x288 with 1 Axes>"
      ]
     },
     "metadata": {
      "needs_background": "light"
     },
     "output_type": "display_data"
    }
   ],
   "source": [
    "plt.plot(range(1,7), klist)\n",
    "plt.show()"
   ]
  },
  {
   "attachments": {},
   "cell_type": "markdown",
   "metadata": {},
   "source": [
    "As we can see from the elbow plot, 3 is the best value"
   ]
  },
  {
   "cell_type": "code",
   "execution_count": null,
   "metadata": {},
   "outputs": [],
   "source": [
    "# Number of clusters = 3"
   ]
  },
  {
   "cell_type": "code",
   "execution_count": 60,
   "metadata": {},
   "outputs": [],
   "source": [
    "import plotly.express as px"
   ]
  },
  {
   "cell_type": "code",
   "execution_count": 62,
   "metadata": {},
   "outputs": [
    {
     "data": {
      "application/vnd.plotly.v1+json": {
       "config": {
        "plotlyServerURL": "https://plot.ly"
       },
       "data": [
        {
         "hovertemplate": "Sqft=%{x}<br>Price=%{y}<extra></extra>",
         "legendgroup": "",
         "marker": {
          "color": "#636efa",
          "symbol": "circle"
         },
         "mode": "markers",
         "name": "",
         "orientation": "v",
         "showlegend": false,
         "type": "scatter",
         "x": [
          1177.698,
          2134.8,
          1138.56,
          1458.78,
          967.776,
          1127.886,
          1352.04,
          757.854,
          1152.792,
          1423.2,
          668.904,
          711.6,
          1352.04,
          818.34,
          2134.8,
          2768.124,
          711.6,
          462.54,
          2739.66,
          1174.14,
          2490.6,
          2768.124,
          747.18,
          1668.702,
          3664.74,
          1779,
          3664.74,
          3059.88,
          533.7,
          853.92,
          1732.746,
          1245.3,
          2134.8,
          1206.162,
          861.036,
          462.54,
          434.076,
          768.528,
          3735.9,
          889.5,
          3063.438,
          925.08,
          1174.14,
          1352.04,
          1771.884,
          1601.1,
          1487.244,
          2277.12,
          3735.9,
          711.6,
          2241.54,
          1494.36,
          711.6,
          889.5,
          4643.19,
          2191.728,
          640.44,
          1067.4,
          640.44,
          1362.714,
          604.86,
          889.5,
          1423.2,
          1184.814,
          391.38,
          426.96,
          1067.4,
          533.7,
          462.54,
          1270.206,
          889.5,
          1284.438,
          1892.856,
          996.24,
          711.6,
          1754.094,
          2063.64,
          1522.824,
          1540.614,
          914.406,
          1558.404,
          772.086,
          711.6,
          747.18,
          1227.51,
          1451.664,
          3255.57,
          1779,
          1892.856,
          2312.7,
          1992.48,
          2063.64,
          1529.94,
          2145.474,
          2170.38,
          1771.884,
          1956.9,
          1743.42,
          1707.84,
          2063.64,
          2366.07,
          1814.58,
          2938.908,
          3173.736,
          2917.56,
          1786.116,
          3202.2,
          583.512,
          2099.22,
          2063.64,
          2099.22,
          857.478,
          2227.308,
          2088.546,
          1423.2,
          1569.078,
          3202.2,
          711.6,
          391.38,
          960.66,
          878.826,
          1280.88,
          2134.8,
          2149.032,
          2543.97,
          1206.162,
          1280.88,
          2067.198,
          1184.814,
          732.948,
          1529.94,
          1572.636,
          2540.412,
          1135.002,
          1544.172,
          1921.32,
          772.086,
          1754.094,
          2558.202,
          1195.488,
          3323.172,
          1223.952,
          1184.814,
          1223.952,
          1245.3,
          533.7,
          2028.06,
          4981.2,
          1245.3,
          1707.84,
          1779,
          1956.9,
          1779,
          889.5,
          996.24,
          1067.4,
          900.174,
          1704.282,
          1284.438,
          1565.52,
          1487.244,
          572.838,
          683.136,
          4091.7,
          1124.328,
          1789.674,
          1889.298,
          2205.96,
          1601.1,
          1085.19,
          1921.32,
          1707.84,
          2120.568,
          2782.356,
          914.406,
          1850.16,
          1889.298,
          1245.3,
          1494.36,
          1487.244,
          1690.05,
          796.992,
          3255.57,
          1063.842,
          1263.09,
          1352.04,
          1287.996,
          1167.024,
          1167.024,
          1839.486,
          796.992,
          601.302,
          2156.148,
          2138.358,
          1779,
          1779,
          1732.746,
          526.584,
          718.716,
          1601.1,
          1174.14,
          1408.968,
          1387.62,
          604.86,
          1380.504,
          2134.8,
          740.064,
          1031.82,
          1526.382,
          1601.1,
          1423.2,
          384.264,
          1996.038,
          718.716,
          1366.272,
          1743.42,
          1636.68,
          1903.53,
          668.904,
          2430.114,
          1298.67,
          2138.358,
          2963.814,
          533.7,
          2262.888,
          590.628,
          964.218,
          796.992,
          2408.766,
          1700.724,
          1672.26,
          1469.454,
          2067.198,
          1754.094,
          1757.652,
          587.07,
          1487.244,
          1487.244,
          789.876,
          2006.712,
          871.71,
          1522.824,
          3173.736,
          1899.972,
          2205.96,
          1106.538,
          2668.5,
          882.384,
          3255.57,
          2138.358,
          1579.752,
          2768.124,
          2081.43,
          1700.724,
          2134.8,
          718.716,
          754.296,
          1387.62,
          3558,
          1515.708,
          914.406,
          711.6,
          1487.244,
          2138.358,
          1127.886,
          1135.002,
          665.346,
          925.08,
          1209.72,
          1337.808,
          1366.272,
          2052.966,
          711.6,
          533.7,
          1138.56,
          1458.78,
          1245.3,
          1814.58,
          1515.708,
          811.224,
          359.358,
          1882.182,
          1419.642,
          1394.736,
          2063.64,
          1661.586,
          3504.63,
          1871.508,
          640.44,
          2430.114,
          1519.266,
          761.412,
          1903.53,
          1163.466,
          1779,
          1579.752,
          3145.272,
          3148.83,
          2700.522,
          3664.74,
          2134.8,
          1700.724,
          1380.504,
          2052.966,
          1871.508,
          1430.316,
          1579.752,
          1672.26,
          1270.206,
          1245.3,
          1458.78,
          1707.84,
          1515.708,
          1408.968,
          1476.57,
          1700.724,
          2590.224,
          2408.766,
          1779,
          2099.22,
          1206.162,
          989.124,
          3173.736,
          2444.346,
          722.274,
          1707.84,
          1444.548,
          2892.654,
          711.6,
          1423.2,
          1494.36,
          2184.612,
          601.302,
          3558,
          2102.778,
          1138.56,
          1579.752,
          1135.002,
          640.44,
          1515.708,
          747.18,
          754.296,
          2134.8,
          1490.802,
          1231.068,
          370.032,
          772.086,
          1622.448,
          925.08,
          818.34,
          1384.062,
          540.816,
          2561.76,
          1992.48,
          1031.82,
          2063.64,
          2312.7,
          2383.86,
          2134.8,
          2134.8,
          1423.2,
          1739.862,
          1191.93,
          711.6,
          658.23,
          537.258,
          1515.708,
          1732.746,
          640.44,
          925.08,
          718.716,
          426.96,
          658.23,
          1501.476,
          1771.884,
          1167.024,
          1252.416,
          1697.166,
          1167.024,
          2184.612,
          2170.38,
          1857.276,
          1996.038,
          1359.156,
          1586.868,
          2312.7,
          2227.308,
          893.058,
          1440.99,
          1263.09,
          1099.422,
          3255.57,
          1540.614,
          1366.272,
          1152.792,
          1544.172,
          1910.646,
          718.716,
          1487.244,
          1312.902,
          1255.974,
          2255.772,
          2052.966,
          1188.372,
          604.86,
          889.5,
          1067.4,
          1138.56,
          925.08,
          711.6,
          925.08,
          925.08,
          523.026,
          1529.94,
          836.13,
          789.876,
          1885.74,
          2782.356,
          711.6,
          469.656,
          793.434,
          1565.52,
          1366.272,
          1914.204,
          1889.298,
          1956.9,
          1992.48,
          3187.968,
          925.08,
          1067.4,
          1352.04,
          2063.64,
          796.992,
          949.986,
          2910.444,
          3010.068,
          768.528,
          772.086,
          1423.2,
          1380.504,
          448.308,
          1971.132,
          2052.966,
          1127.886,
          3241.338,
          1892.856,
          2138.358,
          1423.2,
          1754.094,
          925.08,
          1352.04,
          889.5,
          640.44,
          1423.2,
          651.114,
          1391.178,
          1487.244,
          1700.724,
          1515.708,
          1206.162,
          2052.966,
          1298.67,
          1444.548,
          2067.198,
          1227.51,
          1494.36,
          1366.272,
          2298.468,
          925.08,
          3842.64,
          1889.298,
          2063.64,
          1544.172,
          1273.764,
          1579.752,
          1672.26,
          1227.51,
          1401.852,
          569.28,
          2173.938,
          2213.076,
          2063.64,
          1707.84,
          900.174,
          1465.896,
          1316.46,
          740.064,
          754.296,
          1647.354,
          811.224,
          1487.244,
          1494.36,
          2914.002,
          1665.144,
          1732.746,
          853.92,
          1885.74,
          889.5,
          2455.02,
          1067.4,
          1102.98,
          3024.3,
          1102.98,
          1725.63,
          985.566,
          1102.98,
          1885.74,
          2028.06,
          540.816,
          590.628,
          2170.38,
          1992.48,
          960.66,
          843.246,
          1889.298,
          1487.244,
          587.07,
          1384.062,
          818.34,
          711.6,
          1074.516,
          391.38,
          1889.298,
          1031.82,
          1921.32,
          1387.62,
          1352.04,
          1433.874,
          462.54,
          3775.038,
          996.24,
          441.192,
          1757.652,
          1974.69,
          711.6,
          1825.254,
          1814.58,
          1426.758,
          469.656,
          1149.234,
          2309.142,
          1102.98,
          782.76,
          1352.04,
          1494.36,
          1245.3,
          1529.94,
          1569.078,
          1352.04,
          2141.916,
          1565.52,
          1885.74,
          1761.21,
          1761.21,
          889.5,
          2668.5,
          1334.25,
          925.08,
          878.826,
          1067.4,
          1423.2,
          1419.642,
          711.6,
          718.716,
          1956.9,
          1544.172,
          2383.86,
          2081.43,
          711.6,
          700.926,
          1181.256,
          498.12,
          5856.468,
          1245.3,
          868.152,
          533.7,
          693.81,
          1576.194,
          5760.402,
          796.992,
          2052.966,
          1163.466,
          1316.46,
          1099.422,
          1480.128,
          2739.66,
          800.55,
          676.02,
          964.218,
          1832.37,
          782.76,
          1551.288,
          1102.98,
          989.124,
          711.6,
          1458.78,
          1359.156,
          2063.64,
          846.804,
          1458.78,
          1127.886,
          1355.598,
          1892.856,
          1031.82,
          1707.84,
          640.44,
          1014.03,
          1067.4,
          711.6,
          996.24,
          2134.8,
          1647.354,
          1138.56,
          889.5,
          711.6,
          1857.276,
          1102.98,
          925.08,
          2312.7,
          925.08,
          711.6,
          4198.44,
          3095.46,
          2590.224,
          1885.74,
          1245.3,
          1174.14,
          1458.78,
          1305.786,
          1316.46,
          1167.024,
          996.24,
          1099.422,
          2042.292,
          843.246,
          1889.298,
          1266.648,
          1707.84,
          1707.84,
          2846.4,
          1359.156,
          377.148,
          740.064,
          1707.84,
          1376.946
         ],
         "xaxis": "x",
         "y": [
          62000,
          78000,
          58000,
          45000,
          45000,
          148000,
          58000,
          48000,
          45000,
          65000,
          31000,
          29002,
          39000,
          48000,
          55000,
          100000,
          48000,
          25000,
          90000,
          33000,
          140000,
          100000,
          55000,
          105000,
          200000,
          98000,
          200000,
          145000,
          25000,
          24028,
          65000,
          85000,
          55000,
          57000,
          46000,
          52000,
          43500,
          60000,
          200000,
          36000,
          145000,
          48000,
          36000,
          65000,
          70000,
          50000,
          47999,
          80000,
          200000,
          24030,
          76000,
          70000,
          32500,
          30032,
          180000,
          80000,
          36000,
          36000,
          29032,
          43000,
          30000,
          32000,
          45000,
          49000,
          27500,
          23000,
          33500,
          26000,
          27500,
          50000,
          25000,
          41000,
          90000,
          26000,
          38000,
          75000,
          56000,
          40000,
          89900,
          37000,
          48800,
          39000,
          45000,
          50000,
          45000,
          46000,
          130000,
          60000,
          78000,
          70000,
          70000,
          70000,
          49800,
          79999,
          60000,
          57000,
          66000,
          75000,
          55000,
          70000,
          75000,
          60000,
          95000,
          150000,
          150000,
          98000,
          80000,
          33000,
          55000,
          80000,
          52000,
          52000,
          99999,
          65000,
          92000,
          55000,
          149999,
          35000,
          22000,
          33000,
          48000,
          53000,
          68000,
          80000,
          120000,
          57000,
          57000,
          100000,
          38000,
          27000,
          75000,
          55000,
          89000,
          40000,
          99999,
          48000,
          39000,
          75000,
          80000,
          86888,
          140000,
          58888,
          57000,
          41888,
          39000,
          29999,
          88000,
          225000,
          40999,
          55000,
          97999,
          77000,
          57000,
          52000,
          44999,
          32000,
          50000,
          59888,
          41000,
          45000,
          68000,
          43000,
          28000,
          180000,
          45000,
          88000,
          100000,
          100000,
          48000,
          35000,
          48000,
          80000,
          98000,
          120000,
          37000,
          82000,
          100000,
          35000,
          49800,
          33700,
          40000,
          45000,
          130000,
          45000,
          37000,
          36000,
          30000,
          42000,
          42000,
          67000,
          45000,
          38000,
          75000,
          55000,
          55000,
          85000,
          65000,
          29500,
          43000,
          33500,
          26000,
          65999,
          45000,
          23800,
          49999,
          58000,
          45000,
          36000,
          65000,
          65000,
          55000,
          35000,
          75000,
          43000,
          50000,
          45000,
          52000,
          120000,
          28000,
          110000,
          57000,
          55000,
          95000,
          25000,
          120000,
          45000,
          28000,
          45000,
          80000,
          55000,
          75000,
          75000,
          100000,
          75000,
          55000,
          36000,
          50000,
          50000,
          42000,
          68000,
          41999,
          60000,
          160000,
          57000,
          120000,
          50000,
          138888,
          48800,
          120000,
          43000,
          99990,
          60000,
          68000,
          55000,
          43000,
          34800,
          80000,
          45000,
          63000,
          49800,
          36000,
          36000,
          48000,
          43000,
          26000,
          37000,
          25000,
          36000,
          38000,
          60000,
          49999,
          77999,
          36000,
          17000,
          26000,
          36000,
          37000,
          90000,
          88000,
          43500,
          26000,
          55000,
          50000,
          45000,
          88000,
          50000,
          250000,
          88000,
          43000,
          88000,
          49800,
          26000,
          120000,
          45000,
          51999,
          65000,
          98000,
          98000,
          100000,
          206000,
          68000,
          55000,
          49800,
          77999,
          49999,
          44999,
          99999,
          58000,
          42000,
          35000,
          65000,
          37000,
          48800,
          39999,
          49999,
          55000,
          77999,
          74999,
          90000,
          63000,
          59500,
          45000,
          160000,
          73000,
          36000,
          65000,
          53000,
          170000,
          43000,
          55000,
          48800,
          80000,
          35000,
          160000,
          70000,
          40000,
          56000,
          40000,
          38000,
          68000,
          60000,
          32000,
          58000,
          59888,
          38888,
          24888,
          39000,
          130000,
          31999,
          42000,
          49800,
          29500,
          100000,
          55000,
          61000,
          85000,
          55000,
          70000,
          78000,
          98000,
          50000,
          65000,
          55000,
          39000,
          22000,
          19000,
          88000,
          65000,
          45000,
          31800,
          34800,
          13000,
          46000,
          52000,
          57000,
          38000,
          40000,
          75000,
          43000,
          63000,
          110000,
          65000,
          70000,
          45000,
          44000,
          70000,
          100000,
          38000,
          55000,
          37000,
          58500,
          120000,
          69000,
          41000,
          45000,
          98000,
          75000,
          35000,
          33700,
          41000,
          40000,
          80000,
          78000,
          36000,
          11900,
          29800,
          35000,
          33000,
          32000,
          42000,
          34500,
          32000,
          29000,
          58000,
          35000,
          42000,
          54999,
          123456,
          28000,
          34000,
          40000,
          45000,
          50000,
          88000,
          100000,
          85000,
          99888,
          168000,
          51000,
          31000,
          85000,
          110000,
          45000,
          43000,
          90000,
          185000,
          45000,
          28000,
          68000,
          42000,
          17000,
          53000,
          78000,
          150000,
          99999,
          119999,
          100000,
          45000,
          48000,
          36000,
          50000,
          24000,
          28000,
          39000,
          36000,
          50000,
          36000,
          55000,
          50000,
          57000,
          78000,
          59500,
          45000,
          100000,
          39000,
          36000,
          50000,
          135000,
          28000,
          200000,
          105000,
          98000,
          98000,
          57000,
          100000,
          45000,
          45000,
          60000,
          32000,
          60000,
          108000,
          100000,
          80000,
          88000,
          80000,
          45000,
          38800,
          35000,
          55000,
          43500,
          38000,
          150000,
          110000,
          48000,
          72000,
          42000,
          75000,
          49998,
          110000,
          50000,
          50000,
          158000,
          26000,
          45000,
          28000,
          35000,
          77000,
          89000,
          28500,
          45000,
          110000,
          70000,
          33000,
          51500,
          69500,
          36000,
          36000,
          50000,
          21000,
          42000,
          35000,
          25000,
          100000,
          40000,
          55000,
          40000,
          50000,
          47000,
          20000,
          150000,
          28000,
          40000,
          65000,
          70000,
          43000,
          60000,
          85000,
          48120,
          35000,
          50000,
          138000,
          31000,
          30000,
          48000,
          60000,
          40000,
          45000,
          58000,
          30000,
          77000,
          80000,
          55000,
          45000,
          45000,
          30500,
          138888,
          38000,
          36000,
          47999,
          35000,
          38000,
          45000,
          22000,
          35000,
          90000,
          98000,
          60000,
          68000,
          17000,
          40000,
          52000,
          40000,
          180000,
          23000,
          26000,
          28800,
          33000,
          44000,
          170000,
          45000,
          78000,
          38000,
          45000,
          38800,
          99999,
          150000,
          43000,
          45000,
          32000,
          69000,
          31000,
          59800,
          31000,
          42000,
          27000,
          36000,
          45000,
          60000,
          29000,
          60000,
          26000,
          69999,
          129999,
          21000,
          50000,
          45000,
          36000,
          43000,
          30000,
          6100,
          98000,
          55000,
          42000,
          43000,
          36000,
          45000,
          65000,
          32000,
          99999,
          45000,
          12000,
          180000,
          100000,
          110000,
          120000,
          55000,
          41000,
          75000,
          42000,
          45000,
          38000,
          28000,
          57777,
          82000,
          53000,
          70000,
          40000,
          60000,
          80000,
          138888,
          45000,
          24800,
          45000,
          65000,
          36000
         ],
         "yaxis": "y"
        }
       ],
       "layout": {
        "legend": {
         "tracegroupgap": 0
        },
        "margin": {
         "t": 60
        },
        "template": {
         "data": {
          "bar": [
           {
            "error_x": {
             "color": "#2a3f5f"
            },
            "error_y": {
             "color": "#2a3f5f"
            },
            "marker": {
             "line": {
              "color": "#E5ECF6",
              "width": 0.5
             },
             "pattern": {
              "fillmode": "overlay",
              "size": 10,
              "solidity": 0.2
             }
            },
            "type": "bar"
           }
          ],
          "barpolar": [
           {
            "marker": {
             "line": {
              "color": "#E5ECF6",
              "width": 0.5
             },
             "pattern": {
              "fillmode": "overlay",
              "size": 10,
              "solidity": 0.2
             }
            },
            "type": "barpolar"
           }
          ],
          "carpet": [
           {
            "aaxis": {
             "endlinecolor": "#2a3f5f",
             "gridcolor": "white",
             "linecolor": "white",
             "minorgridcolor": "white",
             "startlinecolor": "#2a3f5f"
            },
            "baxis": {
             "endlinecolor": "#2a3f5f",
             "gridcolor": "white",
             "linecolor": "white",
             "minorgridcolor": "white",
             "startlinecolor": "#2a3f5f"
            },
            "type": "carpet"
           }
          ],
          "choropleth": [
           {
            "colorbar": {
             "outlinewidth": 0,
             "ticks": ""
            },
            "type": "choropleth"
           }
          ],
          "contour": [
           {
            "colorbar": {
             "outlinewidth": 0,
             "ticks": ""
            },
            "colorscale": [
             [
              0,
              "#0d0887"
             ],
             [
              0.1111111111111111,
              "#46039f"
             ],
             [
              0.2222222222222222,
              "#7201a8"
             ],
             [
              0.3333333333333333,
              "#9c179e"
             ],
             [
              0.4444444444444444,
              "#bd3786"
             ],
             [
              0.5555555555555556,
              "#d8576b"
             ],
             [
              0.6666666666666666,
              "#ed7953"
             ],
             [
              0.7777777777777778,
              "#fb9f3a"
             ],
             [
              0.8888888888888888,
              "#fdca26"
             ],
             [
              1,
              "#f0f921"
             ]
            ],
            "type": "contour"
           }
          ],
          "contourcarpet": [
           {
            "colorbar": {
             "outlinewidth": 0,
             "ticks": ""
            },
            "type": "contourcarpet"
           }
          ],
          "heatmap": [
           {
            "colorbar": {
             "outlinewidth": 0,
             "ticks": ""
            },
            "colorscale": [
             [
              0,
              "#0d0887"
             ],
             [
              0.1111111111111111,
              "#46039f"
             ],
             [
              0.2222222222222222,
              "#7201a8"
             ],
             [
              0.3333333333333333,
              "#9c179e"
             ],
             [
              0.4444444444444444,
              "#bd3786"
             ],
             [
              0.5555555555555556,
              "#d8576b"
             ],
             [
              0.6666666666666666,
              "#ed7953"
             ],
             [
              0.7777777777777778,
              "#fb9f3a"
             ],
             [
              0.8888888888888888,
              "#fdca26"
             ],
             [
              1,
              "#f0f921"
             ]
            ],
            "type": "heatmap"
           }
          ],
          "heatmapgl": [
           {
            "colorbar": {
             "outlinewidth": 0,
             "ticks": ""
            },
            "colorscale": [
             [
              0,
              "#0d0887"
             ],
             [
              0.1111111111111111,
              "#46039f"
             ],
             [
              0.2222222222222222,
              "#7201a8"
             ],
             [
              0.3333333333333333,
              "#9c179e"
             ],
             [
              0.4444444444444444,
              "#bd3786"
             ],
             [
              0.5555555555555556,
              "#d8576b"
             ],
             [
              0.6666666666666666,
              "#ed7953"
             ],
             [
              0.7777777777777778,
              "#fb9f3a"
             ],
             [
              0.8888888888888888,
              "#fdca26"
             ],
             [
              1,
              "#f0f921"
             ]
            ],
            "type": "heatmapgl"
           }
          ],
          "histogram": [
           {
            "marker": {
             "pattern": {
              "fillmode": "overlay",
              "size": 10,
              "solidity": 0.2
             }
            },
            "type": "histogram"
           }
          ],
          "histogram2d": [
           {
            "colorbar": {
             "outlinewidth": 0,
             "ticks": ""
            },
            "colorscale": [
             [
              0,
              "#0d0887"
             ],
             [
              0.1111111111111111,
              "#46039f"
             ],
             [
              0.2222222222222222,
              "#7201a8"
             ],
             [
              0.3333333333333333,
              "#9c179e"
             ],
             [
              0.4444444444444444,
              "#bd3786"
             ],
             [
              0.5555555555555556,
              "#d8576b"
             ],
             [
              0.6666666666666666,
              "#ed7953"
             ],
             [
              0.7777777777777778,
              "#fb9f3a"
             ],
             [
              0.8888888888888888,
              "#fdca26"
             ],
             [
              1,
              "#f0f921"
             ]
            ],
            "type": "histogram2d"
           }
          ],
          "histogram2dcontour": [
           {
            "colorbar": {
             "outlinewidth": 0,
             "ticks": ""
            },
            "colorscale": [
             [
              0,
              "#0d0887"
             ],
             [
              0.1111111111111111,
              "#46039f"
             ],
             [
              0.2222222222222222,
              "#7201a8"
             ],
             [
              0.3333333333333333,
              "#9c179e"
             ],
             [
              0.4444444444444444,
              "#bd3786"
             ],
             [
              0.5555555555555556,
              "#d8576b"
             ],
             [
              0.6666666666666666,
              "#ed7953"
             ],
             [
              0.7777777777777778,
              "#fb9f3a"
             ],
             [
              0.8888888888888888,
              "#fdca26"
             ],
             [
              1,
              "#f0f921"
             ]
            ],
            "type": "histogram2dcontour"
           }
          ],
          "mesh3d": [
           {
            "colorbar": {
             "outlinewidth": 0,
             "ticks": ""
            },
            "type": "mesh3d"
           }
          ],
          "parcoords": [
           {
            "line": {
             "colorbar": {
              "outlinewidth": 0,
              "ticks": ""
             }
            },
            "type": "parcoords"
           }
          ],
          "pie": [
           {
            "automargin": true,
            "type": "pie"
           }
          ],
          "scatter": [
           {
            "marker": {
             "colorbar": {
              "outlinewidth": 0,
              "ticks": ""
             }
            },
            "type": "scatter"
           }
          ],
          "scatter3d": [
           {
            "line": {
             "colorbar": {
              "outlinewidth": 0,
              "ticks": ""
             }
            },
            "marker": {
             "colorbar": {
              "outlinewidth": 0,
              "ticks": ""
             }
            },
            "type": "scatter3d"
           }
          ],
          "scattercarpet": [
           {
            "marker": {
             "colorbar": {
              "outlinewidth": 0,
              "ticks": ""
             }
            },
            "type": "scattercarpet"
           }
          ],
          "scattergeo": [
           {
            "marker": {
             "colorbar": {
              "outlinewidth": 0,
              "ticks": ""
             }
            },
            "type": "scattergeo"
           }
          ],
          "scattergl": [
           {
            "marker": {
             "colorbar": {
              "outlinewidth": 0,
              "ticks": ""
             }
            },
            "type": "scattergl"
           }
          ],
          "scattermapbox": [
           {
            "marker": {
             "colorbar": {
              "outlinewidth": 0,
              "ticks": ""
             }
            },
            "type": "scattermapbox"
           }
          ],
          "scatterpolar": [
           {
            "marker": {
             "colorbar": {
              "outlinewidth": 0,
              "ticks": ""
             }
            },
            "type": "scatterpolar"
           }
          ],
          "scatterpolargl": [
           {
            "marker": {
             "colorbar": {
              "outlinewidth": 0,
              "ticks": ""
             }
            },
            "type": "scatterpolargl"
           }
          ],
          "scatterternary": [
           {
            "marker": {
             "colorbar": {
              "outlinewidth": 0,
              "ticks": ""
             }
            },
            "type": "scatterternary"
           }
          ],
          "surface": [
           {
            "colorbar": {
             "outlinewidth": 0,
             "ticks": ""
            },
            "colorscale": [
             [
              0,
              "#0d0887"
             ],
             [
              0.1111111111111111,
              "#46039f"
             ],
             [
              0.2222222222222222,
              "#7201a8"
             ],
             [
              0.3333333333333333,
              "#9c179e"
             ],
             [
              0.4444444444444444,
              "#bd3786"
             ],
             [
              0.5555555555555556,
              "#d8576b"
             ],
             [
              0.6666666666666666,
              "#ed7953"
             ],
             [
              0.7777777777777778,
              "#fb9f3a"
             ],
             [
              0.8888888888888888,
              "#fdca26"
             ],
             [
              1,
              "#f0f921"
             ]
            ],
            "type": "surface"
           }
          ],
          "table": [
           {
            "cells": {
             "fill": {
              "color": "#EBF0F8"
             },
             "line": {
              "color": "white"
             }
            },
            "header": {
             "fill": {
              "color": "#C8D4E3"
             },
             "line": {
              "color": "white"
             }
            },
            "type": "table"
           }
          ]
         },
         "layout": {
          "annotationdefaults": {
           "arrowcolor": "#2a3f5f",
           "arrowhead": 0,
           "arrowwidth": 1
          },
          "autotypenumbers": "strict",
          "coloraxis": {
           "colorbar": {
            "outlinewidth": 0,
            "ticks": ""
           }
          },
          "colorscale": {
           "diverging": [
            [
             0,
             "#8e0152"
            ],
            [
             0.1,
             "#c51b7d"
            ],
            [
             0.2,
             "#de77ae"
            ],
            [
             0.3,
             "#f1b6da"
            ],
            [
             0.4,
             "#fde0ef"
            ],
            [
             0.5,
             "#f7f7f7"
            ],
            [
             0.6,
             "#e6f5d0"
            ],
            [
             0.7,
             "#b8e186"
            ],
            [
             0.8,
             "#7fbc41"
            ],
            [
             0.9,
             "#4d9221"
            ],
            [
             1,
             "#276419"
            ]
           ],
           "sequential": [
            [
             0,
             "#0d0887"
            ],
            [
             0.1111111111111111,
             "#46039f"
            ],
            [
             0.2222222222222222,
             "#7201a8"
            ],
            [
             0.3333333333333333,
             "#9c179e"
            ],
            [
             0.4444444444444444,
             "#bd3786"
            ],
            [
             0.5555555555555556,
             "#d8576b"
            ],
            [
             0.6666666666666666,
             "#ed7953"
            ],
            [
             0.7777777777777778,
             "#fb9f3a"
            ],
            [
             0.8888888888888888,
             "#fdca26"
            ],
            [
             1,
             "#f0f921"
            ]
           ],
           "sequentialminus": [
            [
             0,
             "#0d0887"
            ],
            [
             0.1111111111111111,
             "#46039f"
            ],
            [
             0.2222222222222222,
             "#7201a8"
            ],
            [
             0.3333333333333333,
             "#9c179e"
            ],
            [
             0.4444444444444444,
             "#bd3786"
            ],
            [
             0.5555555555555556,
             "#d8576b"
            ],
            [
             0.6666666666666666,
             "#ed7953"
            ],
            [
             0.7777777777777778,
             "#fb9f3a"
            ],
            [
             0.8888888888888888,
             "#fdca26"
            ],
            [
             1,
             "#f0f921"
            ]
           ]
          },
          "colorway": [
           "#636efa",
           "#EF553B",
           "#00cc96",
           "#ab63fa",
           "#FFA15A",
           "#19d3f3",
           "#FF6692",
           "#B6E880",
           "#FF97FF",
           "#FECB52"
          ],
          "font": {
           "color": "#2a3f5f"
          },
          "geo": {
           "bgcolor": "white",
           "lakecolor": "white",
           "landcolor": "#E5ECF6",
           "showlakes": true,
           "showland": true,
           "subunitcolor": "white"
          },
          "hoverlabel": {
           "align": "left"
          },
          "hovermode": "closest",
          "mapbox": {
           "style": "light"
          },
          "paper_bgcolor": "white",
          "plot_bgcolor": "#E5ECF6",
          "polar": {
           "angularaxis": {
            "gridcolor": "white",
            "linecolor": "white",
            "ticks": ""
           },
           "bgcolor": "#E5ECF6",
           "radialaxis": {
            "gridcolor": "white",
            "linecolor": "white",
            "ticks": ""
           }
          },
          "scene": {
           "xaxis": {
            "backgroundcolor": "#E5ECF6",
            "gridcolor": "white",
            "gridwidth": 2,
            "linecolor": "white",
            "showbackground": true,
            "ticks": "",
            "zerolinecolor": "white"
           },
           "yaxis": {
            "backgroundcolor": "#E5ECF6",
            "gridcolor": "white",
            "gridwidth": 2,
            "linecolor": "white",
            "showbackground": true,
            "ticks": "",
            "zerolinecolor": "white"
           },
           "zaxis": {
            "backgroundcolor": "#E5ECF6",
            "gridcolor": "white",
            "gridwidth": 2,
            "linecolor": "white",
            "showbackground": true,
            "ticks": "",
            "zerolinecolor": "white"
           }
          },
          "shapedefaults": {
           "line": {
            "color": "#2a3f5f"
           }
          },
          "ternary": {
           "aaxis": {
            "gridcolor": "white",
            "linecolor": "white",
            "ticks": ""
           },
           "baxis": {
            "gridcolor": "white",
            "linecolor": "white",
            "ticks": ""
           },
           "bgcolor": "#E5ECF6",
           "caxis": {
            "gridcolor": "white",
            "linecolor": "white",
            "ticks": ""
           }
          },
          "title": {
           "x": 0.05
          },
          "xaxis": {
           "automargin": true,
           "gridcolor": "white",
           "linecolor": "white",
           "ticks": "",
           "title": {
            "standoff": 15
           },
           "zerolinecolor": "white",
           "zerolinewidth": 2
          },
          "yaxis": {
           "automargin": true,
           "gridcolor": "white",
           "linecolor": "white",
           "ticks": "",
           "title": {
            "standoff": 15
           },
           "zerolinecolor": "white",
           "zerolinewidth": 2
          }
         }
        },
        "xaxis": {
         "anchor": "y",
         "domain": [
          0,
          1
         ],
         "title": {
          "text": "Sqft"
         }
        },
        "yaxis": {
         "anchor": "x",
         "domain": [
          0,
          1
         ],
         "title": {
          "text": "Price"
         }
        }
       }
      }
     },
     "metadata": {},
     "output_type": "display_data"
    }
   ],
   "source": [
    "px.scatter(new_df,x='Sqft',y='Price', )"
   ]
  },
  {
   "cell_type": "code",
   "execution_count": 69,
   "metadata": {},
   "outputs": [
    {
     "data": {
      "text/plain": [
       "<AxesSubplot:xlabel='Sqft', ylabel='Price'>"
      ]
     },
     "execution_count": 69,
     "metadata": {},
     "output_type": "execute_result"
    },
    {
     "data": {
      "image/png": "[encoded data removed]",
      "text/plain": [
       "<Figure size 432x288 with 1 Axes>"
      ]
     },
     "metadata": {
      "needs_background": "light"
     },
     "output_type": "display_data"
    }
   ],
   "source": [
    "\n",
    "\n",
    "sns.scatterplot(data = new_df,x='Sqft',y='Price')\n"
   ]
  },
  {
   "cell_type": "code",
   "execution_count": 61,
   "metadata": {},
   "outputs": [
    {
     "data": {
      "text/html": [
       "<div>\n",
       "<style scoped>\n",
       "    .dataframe tbody tr th:only-of-type {\n",
       "        vertical-align: middle;\n",
       "    }\n",
       "\n",
       "    .dataframe tbody tr th {\n",
       "        vertical-align: top;\n",
       "    }\n",
       "\n",
       "    .dataframe thead th {\n",
       "        text-align: right;\n",
       "    }\n",
       "</style>\n",
       "<table border=\"1\" class=\"dataframe\">\n",
       "  <thead>\n",
       "    <tr style=\"text-align: right;\">\n",
       "      <th></th>\n",
       "      <th>Sqft</th>\n",
       "      <th>Bedroom</th>\n",
       "      <th>Living.Room</th>\n",
       "      <th>Bathroom</th>\n",
       "      <th>Price</th>\n",
       "    </tr>\n",
       "  </thead>\n",
       "  <tbody>\n",
       "    <tr>\n",
       "      <th>0</th>\n",
       "      <td>1177.698</td>\n",
       "      <td>2</td>\n",
       "      <td>2</td>\n",
       "      <td>2</td>\n",
       "      <td>62000</td>\n",
       "    </tr>\n",
       "    <tr>\n",
       "      <th>1</th>\n",
       "      <td>2134.800</td>\n",
       "      <td>4</td>\n",
       "      <td>2</td>\n",
       "      <td>2</td>\n",
       "      <td>78000</td>\n",
       "    </tr>\n",
       "    <tr>\n",
       "      <th>2</th>\n",
       "      <td>1138.560</td>\n",
       "      <td>2</td>\n",
       "      <td>2</td>\n",
       "      <td>1</td>\n",
       "      <td>58000</td>\n",
       "    </tr>\n",
       "    <tr>\n",
       "      <th>3</th>\n",
       "      <td>1458.780</td>\n",
       "      <td>3</td>\n",
       "      <td>2</td>\n",
       "      <td>2</td>\n",
       "      <td>45000</td>\n",
       "    </tr>\n",
       "    <tr>\n",
       "      <th>4</th>\n",
       "      <td>967.776</td>\n",
       "      <td>3</td>\n",
       "      <td>2</td>\n",
       "      <td>2</td>\n",
       "      <td>45000</td>\n",
       "    </tr>\n",
       "  </tbody>\n",
       "</table>\n",
       "</div>"
      ],
      "text/plain": [
       "       Sqft  Bedroom  Living.Room  Bathroom  Price\n",
       "0  1177.698        2            2         2  62000\n",
       "1  2134.800        4            2         2  78000\n",
       "2  1138.560        2            2         1  58000\n",
       "3  1458.780        3            2         2  45000\n",
       "4   967.776        3            2         2  45000"
      ]
     },
     "execution_count": 61,
     "metadata": {},
     "output_type": "execute_result"
    }
   ],
   "source": [
    "# new_df.head()"
   ]
  },
  {
   "cell_type": "code",
   "execution_count": 81,
   "metadata": {},
   "outputs": [
    {
     "name": "stderr",
     "output_type": "stream",
     "text": [
      "c:\\Users\\User\\anaconda3\\files\\lib\\site-packages\\sklearn\\cluster\\_kmeans.py:870: FutureWarning:\n",
      "\n",
      "The default value of `n_init` will change from 10 to 'auto' in 1.4. Set the value of `n_init` explicitly to suppress the warning\n",
      "\n",
      "c:\\Users\\User\\anaconda3\\files\\lib\\site-packages\\sklearn\\cluster\\_kmeans.py:1382: UserWarning:\n",
      "\n",
      "KMeans is known to have a memory leak on Windows with MKL, when there are less chunks than available threads. You can avoid it by setting the environment variable OMP_NUM_THREADS=3.\n",
      "\n",
      "C:\\Users\\User\\AppData\\Local\\Temp\\ipykernel_7400\\370900276.py:4: SettingWithCopyWarning:\n",
      "\n",
      "\n",
      "A value is trying to be set on a copy of a slice from a DataFrame.\n",
      "Try using .loc[row_indexer,col_indexer] = value instead\n",
      "\n",
      "See the caveats in the documentation: https://pandas.pydata.org/pandas-docs/stable/user_guide/indexing.html#returning-a-view-versus-a-copy\n",
      "\n"
     ]
    }
   ],
   "source": [
    "final_model= KMeans(n_clusters= 3, random_state=0)\n",
    "final_model.fit(new_df)\n",
    "\n",
    "new_df['data_label']= final_model.labels_"
   ]
  },
  {
   "cell_type": "code",
   "execution_count": 82,
   "metadata": {},
   "outputs": [
    {
     "data": {
      "application/vnd.plotly.v1+json": {
       "config": {
        "plotlyServerURL": "https://plot.ly"
       },
       "data": [
        {
         "hovertemplate": "Sqft=%{x}<br>Price=%{y}<br>data_label=%{marker.color}<extra></extra>",
         "legendgroup": "",
         "marker": {
          "color": [
           0,
           1,
           0,
           0,
           0,
           2,
           0,
           0,
           0,
           1,
           0,
           0,
           0,
           0,
           0,
           1,
           0,
           0,
           1,
           0,
           2,
           1,
           0,
           1,
           2,
           1,
           2,
           2,
           0,
           0,
           1,
           1,
           0,
           0,
           0,
           0,
           0,
           0,
           2,
           0,
           2,
           0,
           0,
           1,
           1,
           0,
           0,
           1,
           2,
           0,
           1,
           1,
           0,
           0,
           2,
           1,
           0,
           0,
           0,
           0,
           0,
           0,
           0,
           0,
           0,
           0,
           0,
           0,
           0,
           0,
           0,
           0,
           1,
           0,
           0,
           1,
           0,
           0,
           1,
           0,
           0,
           0,
           0,
           0,
           0,
           0,
           2,
           0,
           1,
           1,
           1,
           1,
           0,
           1,
           0,
           0,
           1,
           1,
           0,
           1,
           1,
           0,
           1,
           2,
           2,
           1,
           1,
           0,
           0,
           1,
           0,
           0,
           1,
           1,
           1,
           0,
           2,
           0,
           0,
           0,
           0,
           0,
           1,
           1,
           1,
           0,
           0,
           1,
           0,
           0,
           1,
           0,
           1,
           0,
           1,
           0,
           0,
           1,
           1,
           1,
           2,
           0,
           0,
           0,
           0,
           0,
           1,
           2,
           0,
           0,
           1,
           1,
           0,
           0,
           0,
           0,
           0,
           0,
           0,
           0,
           1,
           0,
           0,
           2,
           0,
           1,
           1,
           1,
           0,
           0,
           0,
           1,
           1,
           1,
           0,
           1,
           1,
           0,
           0,
           0,
           0,
           0,
           2,
           0,
           0,
           0,
           0,
           0,
           0,
           1,
           0,
           0,
           1,
           0,
           0,
           1,
           1,
           0,
           0,
           0,
           0,
           1,
           0,
           0,
           0,
           0,
           0,
           0,
           1,
           1,
           0,
           0,
           1,
           0,
           0,
           0,
           0,
           1,
           0,
           1,
           0,
           0,
           1,
           0,
           1,
           0,
           0,
           0,
           1,
           0,
           1,
           1,
           1,
           1,
           0,
           0,
           0,
           0,
           0,
           1,
           0,
           0,
           2,
           0,
           1,
           0,
           2,
           0,
           1,
           0,
           1,
           0,
           1,
           0,
           0,
           0,
           1,
           0,
           0,
           0,
           0,
           0,
           0,
           0,
           0,
           0,
           0,
           0,
           0,
           0,
           0,
           1,
           0,
           0,
           0,
           0,
           0,
           1,
           1,
           0,
           0,
           0,
           0,
           0,
           1,
           0,
           2,
           1,
           0,
           1,
           0,
           0,
           1,
           0,
           0,
           1,
           1,
           1,
           1,
           2,
           1,
           0,
           0,
           1,
           0,
           0,
           1,
           0,
           0,
           0,
           1,
           0,
           0,
           0,
           0,
           0,
           1,
           1,
           1,
           0,
           0,
           0,
           2,
           1,
           0,
           1,
           0,
           2,
           0,
           0,
           0,
           1,
           0,
           2,
           1,
           0,
           0,
           0,
           0,
           1,
           0,
           0,
           0,
           0,
           0,
           0,
           0,
           2,
           0,
           0,
           0,
           0,
           1,
           0,
           0,
           1,
           0,
           1,
           1,
           1,
           0,
           1,
           0,
           0,
           0,
           0,
           1,
           1,
           0,
           0,
           0,
           0,
           0,
           0,
           0,
           0,
           0,
           1,
           0,
           0,
           1,
           1,
           1,
           0,
           0,
           1,
           1,
           0,
           0,
           0,
           0,
           1,
           1,
           0,
           0,
           1,
           1,
           0,
           0,
           0,
           0,
           1,
           1,
           0,
           0,
           0,
           0,
           0,
           0,
           0,
           0,
           0,
           0,
           0,
           0,
           0,
           0,
           1,
           0,
           0,
           0,
           0,
           0,
           1,
           1,
           1,
           1,
           2,
           0,
           0,
           1,
           1,
           0,
           0,
           1,
           2,
           0,
           0,
           1,
           0,
           0,
           0,
           1,
           2,
           1,
           1,
           1,
           0,
           0,
           0,
           0,
           0,
           0,
           0,
           0,
           0,
           0,
           0,
           0,
           0,
           1,
           0,
           0,
           1,
           0,
           0,
           0,
           2,
           0,
           2,
           1,
           1,
           1,
           0,
           1,
           0,
           0,
           0,
           0,
           0,
           1,
           1,
           1,
           1,
           1,
           0,
           0,
           0,
           0,
           0,
           0,
           2,
           1,
           0,
           1,
           0,
           1,
           0,
           1,
           0,
           0,
           2,
           0,
           0,
           0,
           0,
           1,
           1,
           0,
           0,
           1,
           1,
           0,
           0,
           1,
           0,
           0,
           0,
           0,
           0,
           0,
           0,
           1,
           0,
           0,
           0,
           0,
           0,
           0,
           2,
           0,
           0,
           1,
           1,
           0,
           0,
           1,
           0,
           0,
           0,
           2,
           0,
           0,
           0,
           0,
           0,
           0,
           0,
           0,
           1,
           1,
           0,
           0,
           0,
           0,
           2,
           0,
           0,
           0,
           0,
           0,
           0,
           0,
           0,
           1,
           1,
           0,
           1,
           0,
           0,
           0,
           0,
           2,
           0,
           0,
           0,
           0,
           0,
           2,
           0,
           1,
           0,
           0,
           0,
           1,
           2,
           0,
           0,
           0,
           1,
           0,
           0,
           0,
           0,
           0,
           0,
           0,
           0,
           0,
           0,
           0,
           1,
           2,
           0,
           0,
           0,
           0,
           0,
           0,
           0,
           1,
           0,
           0,
           0,
           0,
           0,
           1,
           0,
           1,
           0,
           0,
           2,
           1,
           1,
           1,
           0,
           0,
           1,
           0,
           0,
           0,
           0,
           0,
           1,
           0,
           1,
           0,
           0,
           1,
           2,
           0,
           0,
           0,
           1,
           0
          ],
          "coloraxis": "coloraxis",
          "symbol": "circle"
         },
         "mode": "markers",
         "name": "",
         "orientation": "v",
         "showlegend": false,
         "type": "scatter",
         "x": [
          1177.698,
          2134.8,
          1138.56,
          1458.78,
          967.776,
          1127.886,
          1352.04,
          757.854,
          1152.792,
          1423.2,
          668.904,
          711.6,
          1352.04,
          818.34,
          2134.8,
          2768.124,
          711.6,
          462.54,
          2739.66,
          1174.14,
          2490.6,
          2768.124,
          747.18,
          1668.702,
          3664.74,
          1779,
          3664.74,
          3059.88,
          533.7,
          853.92,
          1732.746,
          1245.3,
          2134.8,
          1206.162,
          861.036,
          462.54,
          434.076,
          768.528,
          3735.9,
          889.5,
          3063.438,
          925.08,
          1174.14,
          1352.04,
          1771.884,
          1601.1,
          1487.244,
          2277.12,
          3735.9,
          711.6,
          2241.54,
          1494.36,
          711.6,
          889.5,
          4643.19,
          2191.728,
          640.44,
          1067.4,
          640.44,
          1362.714,
          604.86,
          889.5,
          1423.2,
          1184.814,
          391.38,
          426.96,
          1067.4,
          533.7,
          462.54,
          1270.206,
          889.5,
          1284.438,
          1892.856,
          996.24,
          711.6,
          1754.094,
          2063.64,
          1522.824,
          1540.614,
          914.406,
          1558.404,
          772.086,
          711.6,
          747.18,
          1227.51,
          1451.664,
          3255.57,
          1779,
          1892.856,
          2312.7,
          1992.48,
          2063.64,
          1529.94,
          2145.474,
          2170.38,
          1771.884,
          1956.9,
          1743.42,
          1707.84,
          2063.64,
          2366.07,
          1814.58,
          2938.908,
          3173.736,
          2917.56,
          1786.116,
          3202.2,
          583.512,
          2099.22,
          2063.64,
          2099.22,
          857.478,
          2227.308,
          2088.546,
          1423.2,
          1569.078,
          3202.2,
          711.6,
          391.38,
          960.66,
          878.826,
          1280.88,
          2134.8,
          2149.032,
          2543.97,
          1206.162,
          1280.88,
          2067.198,
          1184.814,
          732.948,
          1529.94,
          1572.636,
          2540.412,
          1135.002,
          1544.172,
          1921.32,
          772.086,
          1754.094,
          2558.202,
          1195.488,
          3323.172,
          1223.952,
          1184.814,
          1223.952,
          1245.3,
          533.7,
          2028.06,
          4981.2,
          1245.3,
          1707.84,
          1779,
          1956.9,
          1779,
          889.5,
          996.24,
          1067.4,
          900.174,
          1704.282,
          1284.438,
          1565.52,
          1487.244,
          572.838,
          683.136,
          4091.7,
          1124.328,
          1789.674,
          1889.298,
          2205.96,
          1601.1,
          1085.19,
          1921.32,
          1707.84,
          2120.568,
          2782.356,
          914.406,
          1850.16,
          1889.298,
          1245.3,
          1494.36,
          1487.244,
          1690.05,
          796.992,
          3255.57,
          1063.842,
          1263.09,
          1352.04,
          1287.996,
          1167.024,
          1167.024,
          1839.486,
          796.992,
          601.302,
          2156.148,
          2138.358,
          1779,
          1779,
          1732.746,
          526.584,
          718.716,
          1601.1,
          1174.14,
          1408.968,
          1387.62,
          604.86,
          1380.504,
          2134.8,
          740.064,
          1031.82,
          1526.382,
          1601.1,
          1423.2,
          384.264,
          1996.038,
          718.716,
          1366.272,
          1743.42,
          1636.68,
          1903.53,
          668.904,
          2430.114,
          1298.67,
          2138.358,
          2963.814,
          533.7,
          2262.888,
          590.628,
          964.218,
          796.992,
          2408.766,
          1700.724,
          1672.26,
          1469.454,
          2067.198,
          1754.094,
          1757.652,
          587.07,
          1487.244,
          1487.244,
          789.876,
          2006.712,
          871.71,
          1522.824,
          3173.736,
          1899.972,
          2205.96,
          1106.538,
          2668.5,
          882.384,
          3255.57,
          2138.358,
          1579.752,
          2768.124,
          2081.43,
          1700.724,
          2134.8,
          718.716,
          754.296,
          1387.62,
          3558,
          1515.708,
          914.406,
          711.6,
          1487.244,
          2138.358,
          1127.886,
          1135.002,
          665.346,
          925.08,
          1209.72,
          1337.808,
          1366.272,
          2052.966,
          711.6,
          533.7,
          1138.56,
          1458.78,
          1245.3,
          1814.58,
          1515.708,
          811.224,
          359.358,
          1882.182,
          1419.642,
          1394.736,
          2063.64,
          1661.586,
          3504.63,
          1871.508,
          640.44,
          2430.114,
          1519.266,
          761.412,
          1903.53,
          1163.466,
          1779,
          1579.752,
          3145.272,
          3148.83,
          2700.522,
          3664.74,
          2134.8,
          1700.724,
          1380.504,
          2052.966,
          1871.508,
          1430.316,
          1579.752,
          1672.26,
          1270.206,
          1245.3,
          1458.78,
          1707.84,
          1515.708,
          1408.968,
          1476.57,
          1700.724,
          2590.224,
          2408.766,
          1779,
          2099.22,
          1206.162,
          989.124,
          3173.736,
          2444.346,
          722.274,
          1707.84,
          1444.548,
          2892.654,
          711.6,
          1423.2,
          1494.36,
          2184.612,
          601.302,
          3558,
          2102.778,
          1138.56,
          1579.752,
          1135.002,
          640.44,
          1515.708,
          747.18,
          754.296,
          2134.8,
          1490.802,
          1231.068,
          370.032,
          772.086,
          1622.448,
          925.08,
          818.34,
          1384.062,
          540.816,
          2561.76,
          1992.48,
          1031.82,
          2063.64,
          2312.7,
          2383.86,
          2134.8,
          2134.8,
          1423.2,
          1739.862,
          1191.93,
          711.6,
          658.23,
          537.258,
          1515.708,
          1732.746,
          640.44,
          925.08,
          718.716,
          426.96,
          658.23,
          1501.476,
          1771.884,
          1167.024,
          1252.416,
          1697.166,
          1167.024,
          2184.612,
          2170.38,
          1857.276,
          1996.038,
          1359.156,
          1586.868,
          2312.7,
          2227.308,
          893.058,
          1440.99,
          1263.09,
          1099.422,
          3255.57,
          1540.614,
          1366.272,
          1152.792,
          1544.172,
          1910.646,
          718.716,
          1487.244,
          1312.902,
          1255.974,
          2255.772,
          2052.966,
          1188.372,
          604.86,
          889.5,
          1067.4,
          1138.56,
          925.08,
          711.6,
          925.08,
          925.08,
          523.026,
          1529.94,
          836.13,
          789.876,
          1885.74,
          2782.356,
          711.6,
          469.656,
          793.434,
          1565.52,
          1366.272,
          1914.204,
          1889.298,
          1956.9,
          1992.48,
          3187.968,
          925.08,
          1067.4,
          1352.04,
          2063.64,
          796.992,
          949.986,
          2910.444,
          3010.068,
          768.528,
          772.086,
          1423.2,
          1380.504,
          448.308,
          1971.132,
          2052.966,
          1127.886,
          3241.338,
          1892.856,
          2138.358,
          1423.2,
          1754.094,
          925.08,
          1352.04,
          889.5,
          640.44,
          1423.2,
          651.114,
          1391.178,
          1487.244,
          1700.724,
          1515.708,
          1206.162,
          2052.966,
          1298.67,
          1444.548,
          2067.198,
          1227.51,
          1494.36,
          1366.272,
          2298.468,
          925.08,
          3842.64,
          1889.298,
          2063.64,
          1544.172,
          1273.764,
          1579.752,
          1672.26,
          1227.51,
          1401.852,
          569.28,
          2173.938,
          2213.076,
          2063.64,
          1707.84,
          900.174,
          1465.896,
          1316.46,
          740.064,
          754.296,
          1647.354,
          811.224,
          1487.244,
          1494.36,
          2914.002,
          1665.144,
          1732.746,
          853.92,
          1885.74,
          889.5,
          2455.02,
          1067.4,
          1102.98,
          3024.3,
          1102.98,
          1725.63,
          985.566,
          1102.98,
          1885.74,
          2028.06,
          540.816,
          590.628,
          2170.38,
          1992.48,
          960.66,
          843.246,
          1889.298,
          1487.244,
          587.07,
          1384.062,
          818.34,
          711.6,
          1074.516,
          391.38,
          1889.298,
          1031.82,
          1921.32,
          1387.62,
          1352.04,
          1433.874,
          462.54,
          3775.038,
          996.24,
          441.192,
          1757.652,
          1974.69,
          711.6,
          1825.254,
          1814.58,
          1426.758,
          469.656,
          1149.234,
          2309.142,
          1102.98,
          782.76,
          1352.04,
          1494.36,
          1245.3,
          1529.94,
          1569.078,
          1352.04,
          2141.916,
          1565.52,
          1885.74,
          1761.21,
          1761.21,
          889.5,
          2668.5,
          1334.25,
          925.08,
          878.826,
          1067.4,
          1423.2,
          1419.642,
          711.6,
          718.716,
          1956.9,
          1544.172,
          2383.86,
          2081.43,
          711.6,
          700.926,
          1181.256,
          498.12,
          5856.468,
          1245.3,
          868.152,
          533.7,
          693.81,
          1576.194,
          5760.402,
          796.992,
          2052.966,
          1163.466,
          1316.46,
          1099.422,
          1480.128,
          2739.66,
          800.55,
          676.02,
          964.218,
          1832.37,
          782.76,
          1551.288,
          1102.98,
          989.124,
          711.6,
          1458.78,
          1359.156,
          2063.64,
          846.804,
          1458.78,
          1127.886,
          1355.598,
          1892.856,
          1031.82,
          1707.84,
          640.44,
          1014.03,
          1067.4,
          711.6,
          996.24,
          2134.8,
          1647.354,
          1138.56,
          889.5,
          711.6,
          1857.276,
          1102.98,
          925.08,
          2312.7,
          925.08,
          711.6,
          4198.44,
          3095.46,
          2590.224,
          1885.74,
          1245.3,
          1174.14,
          1458.78,
          1305.786,
          1316.46,
          1167.024,
          996.24,
          1099.422,
          2042.292,
          843.246,
          1889.298,
          1266.648,
          1707.84,
          1707.84,
          2846.4,
          1359.156,
          377.148,
          740.064,
          1707.84,
          1376.946
         ],
         "xaxis": "x",
         "y": [
          62000,
          78000,
          58000,
          45000,
          45000,
          148000,
          58000,
          48000,
          45000,
          65000,
          31000,
          29002,
          39000,
          48000,
          55000,
          100000,
          48000,
          25000,
          90000,
          33000,
          140000,
          100000,
          55000,
          105000,
          200000,
          98000,
          200000,
          145000,
          25000,
          24028,
          65000,
          85000,
          55000,
          57000,
          46000,
          52000,
          43500,
          60000,
          200000,
          36000,
          145000,
          48000,
          36000,
          65000,
          70000,
          50000,
          47999,
          80000,
          200000,
          24030,
          76000,
          70000,
          32500,
          30032,
          180000,
          80000,
          36000,
          36000,
          29032,
          43000,
          30000,
          32000,
          45000,
          49000,
          27500,
          23000,
          33500,
          26000,
          27500,
          50000,
          25000,
          41000,
          90000,
          26000,
          38000,
          75000,
          56000,
          40000,
          89900,
          37000,
          48800,
          39000,
          45000,
          50000,
          45000,
          46000,
          130000,
          60000,
          78000,
          70000,
          70000,
          70000,
          49800,
          79999,
          60000,
          57000,
          66000,
          75000,
          55000,
          70000,
          75000,
          60000,
          95000,
          150000,
          150000,
          98000,
          80000,
          33000,
          55000,
          80000,
          52000,
          52000,
          99999,
          65000,
          92000,
          55000,
          149999,
          35000,
          22000,
          33000,
          48000,
          53000,
          68000,
          80000,
          120000,
          57000,
          57000,
          100000,
          38000,
          27000,
          75000,
          55000,
          89000,
          40000,
          99999,
          48000,
          39000,
          75000,
          80000,
          86888,
          140000,
          58888,
          57000,
          41888,
          39000,
          29999,
          88000,
          225000,
          40999,
          55000,
          97999,
          77000,
          57000,
          52000,
          44999,
          32000,
          50000,
          59888,
          41000,
          45000,
          68000,
          43000,
          28000,
          180000,
          45000,
          88000,
          100000,
          100000,
          48000,
          35000,
          48000,
          80000,
          98000,
          120000,
          37000,
          82000,
          100000,
          35000,
          49800,
          33700,
          40000,
          45000,
          130000,
          45000,
          37000,
          36000,
          30000,
          42000,
          42000,
          67000,
          45000,
          38000,
          75000,
          55000,
          55000,
          85000,
          65000,
          29500,
          43000,
          33500,
          26000,
          65999,
          45000,
          23800,
          49999,
          58000,
          45000,
          36000,
          65000,
          65000,
          55000,
          35000,
          75000,
          43000,
          50000,
          45000,
          52000,
          120000,
          28000,
          110000,
          57000,
          55000,
          95000,
          25000,
          120000,
          45000,
          28000,
          45000,
          80000,
          55000,
          75000,
          75000,
          100000,
          75000,
          55000,
          36000,
          50000,
          50000,
          42000,
          68000,
          41999,
          60000,
          160000,
          57000,
          120000,
          50000,
          138888,
          48800,
          120000,
          43000,
          99990,
          60000,
          68000,
          55000,
          43000,
          34800,
          80000,
          45000,
          63000,
          49800,
          36000,
          36000,
          48000,
          43000,
          26000,
          37000,
          25000,
          36000,
          38000,
          60000,
          49999,
          77999,
          36000,
          17000,
          26000,
          36000,
          37000,
          90000,
          88000,
          43500,
          26000,
          55000,
          50000,
          45000,
          88000,
          50000,
          250000,
          88000,
          43000,
          88000,
          49800,
          26000,
          120000,
          45000,
          51999,
          65000,
          98000,
          98000,
          100000,
          206000,
          68000,
          55000,
          49800,
          77999,
          49999,
          44999,
          99999,
          58000,
          42000,
          35000,
          65000,
          37000,
          48800,
          39999,
          49999,
          55000,
          77999,
          74999,
          90000,
          63000,
          59500,
          45000,
          160000,
          73000,
          36000,
          65000,
          53000,
          170000,
          43000,
          55000,
          48800,
          80000,
          35000,
          160000,
          70000,
          40000,
          56000,
          40000,
          38000,
          68000,
          60000,
          32000,
          58000,
          59888,
          38888,
          24888,
          39000,
          130000,
          31999,
          42000,
          49800,
          29500,
          100000,
          55000,
          61000,
          85000,
          55000,
          70000,
          78000,
          98000,
          50000,
          65000,
          55000,
          39000,
          22000,
          19000,
          88000,
          65000,
          45000,
          31800,
          34800,
          13000,
          46000,
          52000,
          57000,
          38000,
          40000,
          75000,
          43000,
          63000,
          110000,
          65000,
          70000,
          45000,
          44000,
          70000,
          100000,
          38000,
          55000,
          37000,
          58500,
          120000,
          69000,
          41000,
          45000,
          98000,
          75000,
          35000,
          33700,
          41000,
          40000,
          80000,
          78000,
          36000,
          11900,
          29800,
          35000,
          33000,
          32000,
          42000,
          34500,
          32000,
          29000,
          58000,
          35000,
          42000,
          54999,
          123456,
          28000,
          34000,
          40000,
          45000,
          50000,
          88000,
          100000,
          85000,
          99888,
          168000,
          51000,
          31000,
          85000,
          110000,
          45000,
          43000,
          90000,
          185000,
          45000,
          28000,
          68000,
          42000,
          17000,
          53000,
          78000,
          150000,
          99999,
          119999,
          100000,
          45000,
          48000,
          36000,
          50000,
          24000,
          28000,
          39000,
          36000,
          50000,
          36000,
          55000,
          50000,
          57000,
          78000,
          59500,
          45000,
          100000,
          39000,
          36000,
          50000,
          135000,
          28000,
          200000,
          105000,
          98000,
          98000,
          57000,
          100000,
          45000,
          45000,
          60000,
          32000,
          60000,
          108000,
          100000,
          80000,
          88000,
          80000,
          45000,
          38800,
          35000,
          55000,
          43500,
          38000,
          150000,
          110000,
          48000,
          72000,
          42000,
          75000,
          49998,
          110000,
          50000,
          50000,
          158000,
          26000,
          45000,
          28000,
          35000,
          77000,
          89000,
          28500,
          45000,
          110000,
          70000,
          33000,
          51500,
          69500,
          36000,
          36000,
          50000,
          21000,
          42000,
          35000,
          25000,
          100000,
          40000,
          55000,
          40000,
          50000,
          47000,
          20000,
          150000,
          28000,
          40000,
          65000,
          70000,
          43000,
          60000,
          85000,
          48120,
          35000,
          50000,
          138000,
          31000,
          30000,
          48000,
          60000,
          40000,
          45000,
          58000,
          30000,
          77000,
          80000,
          55000,
          45000,
          45000,
          30500,
          138888,
          38000,
          36000,
          47999,
          35000,
          38000,
          45000,
          22000,
          35000,
          90000,
          98000,
          60000,
          68000,
          17000,
          40000,
          52000,
          40000,
          180000,
          23000,
          26000,
          28800,
          33000,
          44000,
          170000,
          45000,
          78000,
          38000,
          45000,
          38800,
          99999,
          150000,
          43000,
          45000,
          32000,
          69000,
          31000,
          59800,
          31000,
          42000,
          27000,
          36000,
          45000,
          60000,
          29000,
          60000,
          26000,
          69999,
          129999,
          21000,
          50000,
          45000,
          36000,
          43000,
          30000,
          6100,
          98000,
          55000,
          42000,
          43000,
          36000,
          45000,
          65000,
          32000,
          99999,
          45000,
          12000,
          180000,
          100000,
          110000,
          120000,
          55000,
          41000,
          75000,
          42000,
          45000,
          38000,
          28000,
          57777,
          82000,
          53000,
          70000,
          40000,
          60000,
          80000,
          138888,
          45000,
          24800,
          45000,
          65000,
          36000
         ],
         "yaxis": "y"
        }
       ],
       "layout": {
        "coloraxis": {
         "colorbar": {
          "title": {
           "text": "data_label"
          }
         },
         "colorscale": [
          [
           0,
           "#0d0887"
          ],
          [
           0.1111111111111111,
           "#46039f"
          ],
          [
           0.2222222222222222,
           "#7201a8"
          ],
          [
           0.3333333333333333,
           "#9c179e"
          ],
          [
           0.4444444444444444,
           "#bd3786"
          ],
          [
           0.5555555555555556,
           "#d8576b"
          ],
          [
           0.6666666666666666,
           "#ed7953"
          ],
          [
           0.7777777777777778,
           "#fb9f3a"
          ],
          [
           0.8888888888888888,
           "#fdca26"
          ],
          [
           1,
           "#f0f921"
          ]
         ]
        },
        "legend": {
         "tracegroupgap": 0
        },
        "margin": {
         "t": 60
        },
        "template": {
         "data": {
          "bar": [
           {
            "error_x": {
             "color": "#2a3f5f"
            },
            "error_y": {
             "color": "#2a3f5f"
            },
            "marker": {
             "line": {
              "color": "#E5ECF6",
              "width": 0.5
             },
             "pattern": {
              "fillmode": "overlay",
              "size": 10,
              "solidity": 0.2
             }
            },
            "type": "bar"
           }
          ],
          "barpolar": [
           {
            "marker": {
             "line": {
              "color": "#E5ECF6",
              "width": 0.5
             },
             "pattern": {
              "fillmode": "overlay",
              "size": 10,
              "solidity": 0.2
             }
            },
            "type": "barpolar"
           }
          ],
          "carpet": [
           {
            "aaxis": {
             "endlinecolor": "#2a3f5f",
             "gridcolor": "white",
             "linecolor": "white",
             "minorgridcolor": "white",
             "startlinecolor": "#2a3f5f"
            },
            "baxis": {
             "endlinecolor": "#2a3f5f",
             "gridcolor": "white",
             "linecolor": "white",
             "minorgridcolor": "white",
             "startlinecolor": "#2a3f5f"
            },
            "type": "carpet"
           }
          ],
          "choropleth": [
           {
            "colorbar": {
             "outlinewidth": 0,
             "ticks": ""
            },
            "type": "choropleth"
           }
          ],
          "contour": [
           {
            "colorbar": {
             "outlinewidth": 0,
             "ticks": ""
            },
            "colorscale": [
             [
              0,
              "#0d0887"
             ],
             [
              0.1111111111111111,
              "#46039f"
             ],
             [
              0.2222222222222222,
              "#7201a8"
             ],
             [
              0.3333333333333333,
              "#9c179e"
             ],
             [
              0.4444444444444444,
              "#bd3786"
             ],
             [
              0.5555555555555556,
              "#d8576b"
             ],
             [
              0.6666666666666666,
              "#ed7953"
             ],
             [
              0.7777777777777778,
              "#fb9f3a"
             ],
             [
              0.8888888888888888,
              "#fdca26"
             ],
             [
              1,
              "#f0f921"
             ]
            ],
            "type": "contour"
           }
          ],
          "contourcarpet": [
           {
            "colorbar": {
             "outlinewidth": 0,
             "ticks": ""
            },
            "type": "contourcarpet"
           }
          ],
          "heatmap": [
           {
            "colorbar": {
             "outlinewidth": 0,
             "ticks": ""
            },
            "colorscale": [
             [
              0,
              "#0d0887"
             ],
             [
              0.1111111111111111,
              "#46039f"
             ],
             [
              0.2222222222222222,
              "#7201a8"
             ],
             [
              0.3333333333333333,
              "#9c179e"
             ],
             [
              0.4444444444444444,
              "#bd3786"
             ],
             [
              0.5555555555555556,
              "#d8576b"
             ],
             [
              0.6666666666666666,
              "#ed7953"
             ],
             [
              0.7777777777777778,
              "#fb9f3a"
             ],
             [
              0.8888888888888888,
              "#fdca26"
             ],
             [
              1,
              "#f0f921"
             ]
            ],
            "type": "heatmap"
           }
          ],
          "heatmapgl": [
           {
            "colorbar": {
             "outlinewidth": 0,
             "ticks": ""
            },
            "colorscale": [
             [
              0,
              "#0d0887"
             ],
             [
              0.1111111111111111,
              "#46039f"
             ],
             [
              0.2222222222222222,
              "#7201a8"
             ],
             [
              0.3333333333333333,
              "#9c179e"
             ],
             [
              0.4444444444444444,
              "#bd3786"
             ],
             [
              0.5555555555555556,
              "#d8576b"
             ],
             [
              0.6666666666666666,
              "#ed7953"
             ],
             [
              0.7777777777777778,
              "#fb9f3a"
             ],
             [
              0.8888888888888888,
              "#fdca26"
             ],
             [
              1,
              "#f0f921"
             ]
            ],
            "type": "heatmapgl"
           }
          ],
          "histogram": [
           {
            "marker": {
             "pattern": {
              "fillmode": "overlay",
              "size": 10,
              "solidity": 0.2
             }
            },
            "type": "histogram"
           }
          ],
          "histogram2d": [
           {
            "colorbar": {
             "outlinewidth": 0,
             "ticks": ""
            },
            "colorscale": [
             [
              0,
              "#0d0887"
             ],
             [
              0.1111111111111111,
              "#46039f"
             ],
             [
              0.2222222222222222,
              "#7201a8"
             ],
             [
              0.3333333333333333,
              "#9c179e"
             ],
             [
              0.4444444444444444,
              "#bd3786"
             ],
             [
              0.5555555555555556,
              "#d8576b"
             ],
             [
              0.6666666666666666,
              "#ed7953"
             ],
             [
              0.7777777777777778,
              "#fb9f3a"
             ],
             [
              0.8888888888888888,
              "#fdca26"
             ],
             [
              1,
              "#f0f921"
             ]
            ],
            "type": "histogram2d"
           }
          ],
          "histogram2dcontour": [
           {
            "colorbar": {
             "outlinewidth": 0,
             "ticks": ""
            },
            "colorscale": [
             [
              0,
              "#0d0887"
             ],
             [
              0.1111111111111111,
              "#46039f"
             ],
             [
              0.2222222222222222,
              "#7201a8"
             ],
             [
              0.3333333333333333,
              "#9c179e"
             ],
             [
              0.4444444444444444,
              "#bd3786"
             ],
             [
              0.5555555555555556,
              "#d8576b"
             ],
             [
              0.6666666666666666,
              "#ed7953"
             ],
             [
              0.7777777777777778,
              "#fb9f3a"
             ],
             [
              0.8888888888888888,
              "#fdca26"
             ],
             [
              1,
              "#f0f921"
             ]
            ],
            "type": "histogram2dcontour"
           }
          ],
          "mesh3d": [
           {
            "colorbar": {
             "outlinewidth": 0,
             "ticks": ""
            },
            "type": "mesh3d"
           }
          ],
          "parcoords": [
           {
            "line": {
             "colorbar": {
              "outlinewidth": 0,
              "ticks": ""
             }
            },
            "type": "parcoords"
           }
          ],
          "pie": [
           {
            "automargin": true,
            "type": "pie"
           }
          ],
          "scatter": [
           {
            "marker": {
             "colorbar": {
              "outlinewidth": 0,
              "ticks": ""
             }
            },
            "type": "scatter"
           }
          ],
          "scatter3d": [
           {
            "line": {
             "colorbar": {
              "outlinewidth": 0,
              "ticks": ""
             }
            },
            "marker": {
             "colorbar": {
              "outlinewidth": 0,
              "ticks": ""
             }
            },
            "type": "scatter3d"
           }
          ],
          "scattercarpet": [
           {
            "marker": {
             "colorbar": {
              "outlinewidth": 0,
              "ticks": ""
             }
            },
            "type": "scattercarpet"
           }
          ],
          "scattergeo": [
           {
            "marker": {
             "colorbar": {
              "outlinewidth": 0,
              "ticks": ""
             }
            },
            "type": "scattergeo"
           }
          ],
          "scattergl": [
           {
            "marker": {
             "colorbar": {
              "outlinewidth": 0,
              "ticks": ""
             }
            },
            "type": "scattergl"
           }
          ],
          "scattermapbox": [
           {
            "marker": {
             "colorbar": {
              "outlinewidth": 0,
              "ticks": ""
             }
            },
            "type": "scattermapbox"
           }
          ],
          "scatterpolar": [
           {
            "marker": {
             "colorbar": {
              "outlinewidth": 0,
              "ticks": ""
             }
            },
            "type": "scatterpolar"
           }
          ],
          "scatterpolargl": [
           {
            "marker": {
             "colorbar": {
              "outlinewidth": 0,
              "ticks": ""
             }
            },
            "type": "scatterpolargl"
           }
          ],
          "scatterternary": [
           {
            "marker": {
             "colorbar": {
              "outlinewidth": 0,
              "ticks": ""
             }
            },
            "type": "scatterternary"
           }
          ],
          "surface": [
           {
            "colorbar": {
             "outlinewidth": 0,
             "ticks": ""
            },
            "colorscale": [
             [
              0,
              "#0d0887"
             ],
             [
              0.1111111111111111,
              "#46039f"
             ],
             [
              0.2222222222222222,
              "#7201a8"
             ],
             [
              0.3333333333333333,
              "#9c179e"
             ],
             [
              0.4444444444444444,
              "#bd3786"
             ],
             [
              0.5555555555555556,
              "#d8576b"
             ],
             [
              0.6666666666666666,
              "#ed7953"
             ],
             [
              0.7777777777777778,
              "#fb9f3a"
             ],
             [
              0.8888888888888888,
              "#fdca26"
             ],
             [
              1,
              "#f0f921"
             ]
            ],
            "type": "surface"
           }
          ],
          "table": [
           {
            "cells": {
             "fill": {
              "color": "#EBF0F8"
             },
             "line": {
              "color": "white"
             }
            },
            "header": {
             "fill": {
              "color": "#C8D4E3"
             },
             "line": {
              "color": "white"
             }
            },
            "type": "table"
           }
          ]
         },
         "layout": {
          "annotationdefaults": {
           "arrowcolor": "#2a3f5f",
           "arrowhead": 0,
           "arrowwidth": 1
          },
          "autotypenumbers": "strict",
          "coloraxis": {
           "colorbar": {
            "outlinewidth": 0,
            "ticks": ""
           }
          },
          "colorscale": {
           "diverging": [
            [
             0,
             "#8e0152"
            ],
            [
             0.1,
             "#c51b7d"
            ],
            [
             0.2,
             "#de77ae"
            ],
            [
             0.3,
             "#f1b6da"
            ],
            [
             0.4,
             "#fde0ef"
            ],
            [
             0.5,
             "#f7f7f7"
            ],
            [
             0.6,
             "#e6f5d0"
            ],
            [
             0.7,
             "#b8e186"
            ],
            [
             0.8,
             "#7fbc41"
            ],
            [
             0.9,
             "#4d9221"
            ],
            [
             1,
             "#276419"
            ]
           ],
           "sequential": [
            [
             0,
             "#0d0887"
            ],
            [
             0.1111111111111111,
             "#46039f"
            ],
            [
             0.2222222222222222,
             "#7201a8"
            ],
            [
             0.3333333333333333,
             "#9c179e"
            ],
            [
             0.4444444444444444,
             "#bd3786"
            ],
            [
             0.5555555555555556,
             "#d8576b"
            ],
            [
             0.6666666666666666,
             "#ed7953"
            ],
            [
             0.7777777777777778,
             "#fb9f3a"
            ],
            [
             0.8888888888888888,
             "#fdca26"
            ],
            [
             1,
             "#f0f921"
            ]
           ],
           "sequentialminus": [
            [
             0,
             "#0d0887"
            ],
            [
             0.1111111111111111,
             "#46039f"
            ],
            [
             0.2222222222222222,
             "#7201a8"
            ],
            [
             0.3333333333333333,
             "#9c179e"
            ],
            [
             0.4444444444444444,
             "#bd3786"
            ],
            [
             0.5555555555555556,
             "#d8576b"
            ],
            [
             0.6666666666666666,
             "#ed7953"
            ],
            [
             0.7777777777777778,
             "#fb9f3a"
            ],
            [
             0.8888888888888888,
             "#fdca26"
            ],
            [
             1,
             "#f0f921"
            ]
           ]
          },
          "colorway": [
           "#636efa",
           "#EF553B",
           "#00cc96",
           "#ab63fa",
           "#FFA15A",
           "#19d3f3",
           "#FF6692",
           "#B6E880",
           "#FF97FF",
           "#FECB52"
          ],
          "font": {
           "color": "#2a3f5f"
          },
          "geo": {
           "bgcolor": "white",
           "lakecolor": "white",
           "landcolor": "#E5ECF6",
           "showlakes": true,
           "showland": true,
           "subunitcolor": "white"
          },
          "hoverlabel": {
           "align": "left"
          },
          "hovermode": "closest",
          "mapbox": {
           "style": "light"
          },
          "paper_bgcolor": "white",
          "plot_bgcolor": "#E5ECF6",
          "polar": {
           "angularaxis": {
            "gridcolor": "white",
            "linecolor": "white",
            "ticks": ""
           },
           "bgcolor": "#E5ECF6",
           "radialaxis": {
            "gridcolor": "white",
            "linecolor": "white",
            "ticks": ""
           }
          },
          "scene": {
           "xaxis": {
            "backgroundcolor": "#E5ECF6",
            "gridcolor": "white",
            "gridwidth": 2,
            "linecolor": "white",
            "showbackground": true,
            "ticks": "",
            "zerolinecolor": "white"
           },
           "yaxis": {
            "backgroundcolor": "#E5ECF6",
            "gridcolor": "white",
            "gridwidth": 2,
            "linecolor": "white",
            "showbackground": true,
            "ticks": "",
            "zerolinecolor": "white"
           },
           "zaxis": {
            "backgroundcolor": "#E5ECF6",
            "gridcolor": "white",
            "gridwidth": 2,
            "linecolor": "white",
            "showbackground": true,
            "ticks": "",
            "zerolinecolor": "white"
           }
          },
          "shapedefaults": {
           "line": {
            "color": "#2a3f5f"
           }
          },
          "ternary": {
           "aaxis": {
            "gridcolor": "white",
            "linecolor": "white",
            "ticks": ""
           },
           "baxis": {
            "gridcolor": "white",
            "linecolor": "white",
            "ticks": ""
           },
           "bgcolor": "#E5ECF6",
           "caxis": {
            "gridcolor": "white",
            "linecolor": "white",
            "ticks": ""
           }
          },
          "title": {
           "x": 0.05
          },
          "xaxis": {
           "automargin": true,
           "gridcolor": "white",
           "linecolor": "white",
           "ticks": "",
           "title": {
            "standoff": 15
           },
           "zerolinecolor": "white",
           "zerolinewidth": 2
          },
          "yaxis": {
           "automargin": true,
           "gridcolor": "white",
           "linecolor": "white",
           "ticks": "",
           "title": {
            "standoff": 15
           },
           "zerolinecolor": "white",
           "zerolinewidth": 2
          }
         }
        },
        "xaxis": {
         "anchor": "y",
         "domain": [
          0,
          1
         ],
         "title": {
          "text": "Sqft"
         }
        },
        "yaxis": {
         "anchor": "x",
         "domain": [
          0,
          1
         ],
         "title": {
          "text": "Price"
         }
        }
       }
      }
     },
     "metadata": {},
     "output_type": "display_data"
    }
   ],
   "source": [
    "px.scatter(new_df,x='Sqft',y='Price', color='data_label')"
   ]
  },
  {
   "cell_type": "code",
   "execution_count": 83,
   "metadata": {},
   "outputs": [
    {
     "data": {
      "text/plain": [
       "<AxesSubplot:xlabel='Sqft', ylabel='Price'>"
      ]
     },
     "execution_count": 83,
     "metadata": {},
     "output_type": "execute_result"
    },
    {
     "data": {
      "image/png": "[encoded data removed]",
      "text/plain": [
       "<Figure size 432x288 with 1 Axes>"
      ]
     },
     "metadata": {
      "needs_background": "light"
     },
     "output_type": "display_data"
    }
   ],
   "source": [
    "sns.scatterplot(data=new_df, x=new_df['Sqft'],y=new_df['Price'], hue=new_df['data_label'])"
   ]
  },
  {
   "cell_type": "code",
   "execution_count": null,
   "metadata": {},
   "outputs": [],
   "source": []
  },
  {
   "cell_type": "code",
   "execution_count": null,
   "metadata": {},
   "outputs": [],
   "source": []
  }
 ],
 "metadata": {
  "kernelspec": {
   "display_name": "base",
   "language": "python",
   "name": "python3"
  },
  "language_info": {
   "codemirror_mode": {
    "name": "ipython",
    "version": 3
   },
   "file_extension": ".py",
   "mimetype": "text/x-python",
   "name": "python",
   "nbconvert_exporter": "python",
   "pygments_lexer": "ipython3",
   "version": "3.9.12"
  },
  "orig_nbformat": 4
 },
 "nbformat": 4,
 "nbformat_minor": 2
}
