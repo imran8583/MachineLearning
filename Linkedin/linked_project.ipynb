{
 "cells": [
  {
   "attachments": {},
   "cell_type": "markdown",
   "metadata": {},
   "source": [
    "### Image Classifier\n",
    "\n",
    "Linkedin Profile Classification"
   ]
  },
  {
   "cell_type": "code",
   "execution_count": 2,
   "metadata": {},
   "outputs": [],
   "source": [
    "from selenium import webdriver\n",
    "from selenium.webdriver.common.by import By\n",
    "from PIL import Image\n",
    "import time\n",
    "import pandas as pd\n",
    "import glob"
   ]
  },
  {
   "cell_type": "code",
   "execution_count": 3,
   "metadata": {},
   "outputs": [],
   "source": [
    "linkedin = pd.read_csv(r\"C:\\Users\\User\\Desktop\\EdYoda\\Machine Learning Module\\Datasets\\linkedin_dataset.csv\")\n",
    "\n",
    "links = list(linkedin[\"Profile_Url\"])"
   ]
  },
  {
   "cell_type": "code",
   "execution_count": 4,
   "metadata": {},
   "outputs": [
    {
     "data": {
      "text/plain": [
       "130"
      ]
     },
     "execution_count": 4,
     "metadata": {},
     "output_type": "execute_result"
    }
   ],
   "source": [
    "len(links)"
   ]
  },
  {
   "cell_type": "code",
   "execution_count": 3,
   "metadata": {},
   "outputs": [],
   "source": [
    "driver = webdriver.Chrome()\n",
    "\n",
    "# Initialize the path\n",
    "driver.get(\"https://linkedin.com/home\")\n",
    "\n",
    "time.sleep(3)\n",
    "\n",
    "# Find email ID element input by Xpath\n",
    "id = driver.find_element(By.XPATH, '//*[@id=\"session_key\"]')\n",
    "\n",
    "# Fill email ID\n",
    "id.send_keys(\"entergmail\")\n",
    "\n",
    "# Find email ID element input by Xpath\n",
    "password = driver.find_element(By.XPATH, '//*[@id=\"session_password\"]')\n",
    "\n",
    "time.sleep(3)\n",
    "\n",
    "# Fill password\n",
    "password.send_keys(\"**********\")\n",
    "\n",
    "time.sleep(3)\n",
    "\n",
    "# Click on sign in button\n",
    "driver.find_element(By.XPATH, '//*[@id=\"main-content\"]/section[1]/div/div/form/div[2]/button').click()\n",
    "\n",
    "for i in links:\n",
    "    name = i.split('/in/')[1]\n",
    "    fin_name = name.split('/')[0]\n",
    "    driver.get(i)\n",
    "    time.sleep(3)\n",
    "    driver.save_screenshot(f\"C:\\\\Users\\\\User\\\\Desktop\\\\EdYoda\\\\Machine Learning Module\\\\Datasets\\\\Linkedin\\\\{fin_name}.png\")\n",
    "    print(\"It worked\")\n",
    "\n",
    "# time.sleep(5)\n",
    "# driver.save_screenshot(r\"C:\\Users\\User\\Desktop\\EdYoda\\Machine Learning Module\\Datasets\\screenshot.png\")\n",
    "# driver.close()\n"
   ]
  },
  {
   "cell_type": "code",
   "execution_count": 5,
   "metadata": {},
   "outputs": [
    {
     "data": {
      "text/plain": [
       "['C:\\\\Users\\\\User\\\\Desktop\\\\EdYoda\\\\Machine Learning Module\\\\Datasets\\\\Linkedin\\\\aanya-wig-she-her-b76913180.png',\n",
       " 'C:\\\\Users\\\\User\\\\Desktop\\\\EdYoda\\\\Machine Learning Module\\\\Datasets\\\\Linkedin\\\\abhinav-sharma-802334a0.png',\n",
       " 'C:\\\\Users\\\\User\\\\Desktop\\\\EdYoda\\\\Machine Learning Module\\\\Datasets\\\\Linkedin\\\\adhilshetty.png',\n",
       " 'C:\\\\Users\\\\User\\\\Desktop\\\\EdYoda\\\\Machine Learning Module\\\\Datasets\\\\Linkedin\\\\aditi-sharma-careercoach.png',\n",
       " 'C:\\\\Users\\\\User\\\\Desktop\\\\EdYoda\\\\Machine Learning Module\\\\Datasets\\\\Linkedin\\\\aditianandmarketing.png',\n",
       " 'C:\\\\Users\\\\User\\\\Desktop\\\\EdYoda\\\\Machine Learning Module\\\\Datasets\\\\Linkedin\\\\akash-mutke-4a7199202.png',\n",
       " 'C:\\\\Users\\\\User\\\\Desktop\\\\EdYoda\\\\Machine Learning Module\\\\Datasets\\\\Linkedin\\\\akshaymarch7.png',\n",
       " 'C:\\\\Users\\\\User\\\\Desktop\\\\EdYoda\\\\Machine Learning Module\\\\Datasets\\\\Linkedin\\\\alok-mishra-03962a96.png',\n",
       " 'C:\\\\Users\\\\User\\\\Desktop\\\\EdYoda\\\\Machine Learning Module\\\\Datasets\\\\Linkedin\\\\aman-singh28.png',\n",
       " 'C:\\\\Users\\\\User\\\\Desktop\\\\EdYoda\\\\Machine Learning Module\\\\Datasets\\\\Linkedin\\\\amandablesing.png',\n",
       " 'C:\\\\Users\\\\User\\\\Desktop\\\\EdYoda\\\\Machine Learning Module\\\\Datasets\\\\Linkedin\\\\amymil.png',\n",
       " 'C:\\\\Users\\\\User\\\\Desktop\\\\EdYoda\\\\Machine Learning Module\\\\Datasets\\\\Linkedin\\\\anamariapesantesconsultant.png',\n",
       " 'C:\\\\Users\\\\User\\\\Desktop\\\\EdYoda\\\\Machine Learning Module\\\\Datasets\\\\Linkedin\\\\angela-panqueva-rodriguez.png',\n",
       " 'C:\\\\Users\\\\User\\\\Desktop\\\\EdYoda\\\\Machine Learning Module\\\\Datasets\\\\Linkedin\\\\anirudh-singla-3a1844137.png',\n",
       " 'C:\\\\Users\\\\User\\\\Desktop\\\\EdYoda\\\\Machine Learning Module\\\\Datasets\\\\Linkedin\\\\anitha-s-s-4558a81b6.png',\n",
       " 'C:\\\\Users\\\\User\\\\Desktop\\\\EdYoda\\\\Machine Learning Module\\\\Datasets\\\\Linkedin\\\\anjali-sadana123.png',\n",
       " 'C:\\\\Users\\\\User\\\\Desktop\\\\EdYoda\\\\Machine Learning Module\\\\Datasets\\\\Linkedin\\\\ankurgarg92.png',\n",
       " 'C:\\\\Users\\\\User\\\\Desktop\\\\EdYoda\\\\Machine Learning Module\\\\Datasets\\\\Linkedin\\\\anshikagpt.png',\n",
       " 'C:\\\\Users\\\\User\\\\Desktop\\\\EdYoda\\\\Machine Learning Module\\\\Datasets\\\\Linkedin\\\\anshu-pal-a33937115.png',\n",
       " 'C:\\\\Users\\\\User\\\\Desktop\\\\EdYoda\\\\Machine Learning Module\\\\Datasets\\\\Linkedin\\\\antonia-goetsch.png',\n",
       " 'C:\\\\Users\\\\User\\\\Desktop\\\\EdYoda\\\\Machine Learning Module\\\\Datasets\\\\Linkedin\\\\arjunprksh.png',\n",
       " 'C:\\\\Users\\\\User\\\\Desktop\\\\EdYoda\\\\Machine Learning Module\\\\Datasets\\\\Linkedin\\\\arunapattam.png',\n",
       " 'C:\\\\Users\\\\User\\\\Desktop\\\\EdYoda\\\\Machine Learning Module\\\\Datasets\\\\Linkedin\\\\aryan-agrawal-62b50321a.png',\n",
       " 'C:\\\\Users\\\\User\\\\Desktop\\\\EdYoda\\\\Machine Learning Module\\\\Datasets\\\\Linkedin\\\\astha-tyagi-6276b2b5.png',\n",
       " 'C:\\\\Users\\\\User\\\\Desktop\\\\EdYoda\\\\Machine Learning Module\\\\Datasets\\\\Linkedin\\\\ayushshukla99.png',\n",
       " 'C:\\\\Users\\\\User\\\\Desktop\\\\EdYoda\\\\Machine Learning Module\\\\Datasets\\\\Linkedin\\\\balaji-nayaka-d.png',\n",
       " 'C:\\\\Users\\\\User\\\\Desktop\\\\EdYoda\\\\Machine Learning Module\\\\Datasets\\\\Linkedin\\\\beerbiceps.png',\n",
       " 'C:\\\\Users\\\\User\\\\Desktop\\\\EdYoda\\\\Machine Learning Module\\\\Datasets\\\\Linkedin\\\\berndslaghuis.png',\n",
       " 'C:\\\\Users\\\\User\\\\Desktop\\\\EdYoda\\\\Machine Learning Module\\\\Datasets\\\\Linkedin\\\\bhanuharish.png',\n",
       " 'C:\\\\Users\\\\User\\\\Desktop\\\\EdYoda\\\\Machine Learning Module\\\\Datasets\\\\Linkedin\\\\bharatenduverma.png',\n",
       " 'C:\\\\Users\\\\User\\\\Desktop\\\\EdYoda\\\\Machine Learning Module\\\\Datasets\\\\Linkedin\\\\bhavnatoor.png',\n",
       " 'C:\\\\Users\\\\User\\\\Desktop\\\\EdYoda\\\\Machine Learning Module\\\\Datasets\\\\Linkedin\\\\c%C3%A9line-flores-willers.png',\n",
       " 'C:\\\\Users\\\\User\\\\Desktop\\\\EdYoda\\\\Machine Learning Module\\\\Datasets\\\\Linkedin\\\\carolinstuedemann.png',\n",
       " 'C:\\\\Users\\\\User\\\\Desktop\\\\EdYoda\\\\Machine Learning Module\\\\Datasets\\\\Linkedin\\\\christiancohrs.png',\n",
       " 'C:\\\\Users\\\\User\\\\Desktop\\\\EdYoda\\\\Machine Learning Module\\\\Datasets\\\\Linkedin\\\\christoph-podewils.png',\n",
       " 'C:\\\\Users\\\\User\\\\Desktop\\\\EdYoda\\\\Machine Learning Module\\\\Datasets\\\\Linkedin\\\\clementmihailescu.png',\n",
       " 'C:\\\\Users\\\\User\\\\Desktop\\\\EdYoda\\\\Machine Learning Module\\\\Datasets\\\\Linkedin\\\\crist%C3%B3bal-toledo-maya.png',\n",
       " 'C:\\\\Users\\\\User\\\\Desktop\\\\EdYoda\\\\Machine Learning Module\\\\Datasets\\\\Linkedin\\\\dania-faruqui-378007107.png',\n",
       " 'C:\\\\Users\\\\User\\\\Desktop\\\\EdYoda\\\\Machine Learning Module\\\\Datasets\\\\Linkedin\\\\david-wee-1618a49a.png',\n",
       " 'C:\\\\Users\\\\User\\\\Desktop\\\\EdYoda\\\\Machine Learning Module\\\\Datasets\\\\Linkedin\\\\dhara-v-b62b151b3.png',\n",
       " 'C:\\\\Users\\\\User\\\\Desktop\\\\EdYoda\\\\Machine Learning Module\\\\Datasets\\\\Linkedin\\\\divpillay.png',\n",
       " 'C:\\\\Users\\\\User\\\\Desktop\\\\EdYoda\\\\Machine Learning Module\\\\Datasets\\\\Linkedin\\\\enricozanieri.png',\n",
       " 'C:\\\\Users\\\\User\\\\Desktop\\\\EdYoda\\\\Machine Learning Module\\\\Datasets\\\\Linkedin\\\\gaurgopald.png',\n",
       " 'C:\\\\Users\\\\User\\\\Desktop\\\\EdYoda\\\\Machine Learning Module\\\\Datasets\\\\Linkedin\\\\gkcs.png',\n",
       " 'C:\\\\Users\\\\User\\\\Desktop\\\\EdYoda\\\\Machine Learning Module\\\\Datasets\\\\Linkedin\\\\glennleibowitz.png',\n",
       " 'C:\\\\Users\\\\User\\\\Desktop\\\\EdYoda\\\\Machine Learning Module\\\\Datasets\\\\Linkedin\\\\gyanpriya-misra-857b28192.png',\n",
       " 'C:\\\\Users\\\\User\\\\Desktop\\\\EdYoda\\\\Machine Learning Module\\\\Datasets\\\\Linkedin\\\\harsha-reddy-0312a316b.png',\n",
       " 'C:\\\\Users\\\\User\\\\Desktop\\\\EdYoda\\\\Machine Learning Module\\\\Datasets\\\\Linkedin\\\\hiisatyam.png',\n",
       " 'C:\\\\Users\\\\User\\\\Desktop\\\\EdYoda\\\\Machine Learning Module\\\\Datasets\\\\Linkedin\\\\jaisonthomas123.png',\n",
       " 'C:\\\\Users\\\\User\\\\Desktop\\\\EdYoda\\\\Machine Learning Module\\\\Datasets\\\\Linkedin\\\\jehakjerrylee.png',\n",
       " 'C:\\\\Users\\\\User\\\\Desktop\\\\EdYoda\\\\Machine Learning Module\\\\Datasets\\\\Linkedin\\\\junaid999.png',\n",
       " 'C:\\\\Users\\\\User\\\\Desktop\\\\EdYoda\\\\Machine Learning Module\\\\Datasets\\\\Linkedin\\\\kalpitveerwal.png',\n",
       " 'C:\\\\Users\\\\User\\\\Desktop\\\\EdYoda\\\\Machine Learning Module\\\\Datasets\\\\Linkedin\\\\kanchan-tyagi-9a55a815b.png',\n",
       " 'C:\\\\Users\\\\User\\\\Desktop\\\\EdYoda\\\\Machine Learning Module\\\\Datasets\\\\Linkedin\\\\karthikeya6.png',\n",
       " 'C:\\\\Users\\\\User\\\\Desktop\\\\EdYoda\\\\Machine Learning Module\\\\Datasets\\\\Linkedin\\\\keertipurswani.png',\n",
       " 'C:\\\\Users\\\\User\\\\Desktop\\\\EdYoda\\\\Machine Learning Module\\\\Datasets\\\\Linkedin\\\\kimberlybreuer.png',\n",
       " 'C:\\\\Users\\\\User\\\\Desktop\\\\EdYoda\\\\Machine Learning Module\\\\Datasets\\\\Linkedin\\\\krishna-gopal-a1060414.png',\n",
       " 'C:\\\\Users\\\\User\\\\Desktop\\\\EdYoda\\\\Machine Learning Module\\\\Datasets\\\\Linkedin\\\\kulsheet-kaur-virdi-408573163.png',\n",
       " 'C:\\\\Users\\\\User\\\\Desktop\\\\EdYoda\\\\Machine Learning Module\\\\Datasets\\\\Linkedin\\\\kunalsehgal.png',\n",
       " 'C:\\\\Users\\\\User\\\\Desktop\\\\EdYoda\\\\Machine Learning Module\\\\Datasets\\\\Linkedin\\\\kundan-singh-rajput-413b5610b.png',\n",
       " 'C:\\\\Users\\\\User\\\\Desktop\\\\EdYoda\\\\Machine Learning Module\\\\Datasets\\\\Linkedin\\\\kushallodha548.png',\n",
       " 'C:\\\\Users\\\\User\\\\Desktop\\\\EdYoda\\\\Machine Learning Module\\\\Datasets\\\\Linkedin\\\\laurenpaton.png',\n",
       " 'C:\\\\Users\\\\User\\\\Desktop\\\\EdYoda\\\\Machine Learning Module\\\\Datasets\\\\Linkedin\\\\mahima-dua-1712361a9.png',\n",
       " 'C:\\\\Users\\\\User\\\\Desktop\\\\EdYoda\\\\Machine Learning Module\\\\Datasets\\\\Linkedin\\\\mallanna-mallanna-a3b38a107.png',\n",
       " 'C:\\\\Users\\\\User\\\\Desktop\\\\EdYoda\\\\Machine Learning Module\\\\Datasets\\\\Linkedin\\\\megha-mahansaria-945777212.png',\n",
       " 'C:\\\\Users\\\\User\\\\Desktop\\\\EdYoda\\\\Machine Learning Module\\\\Datasets\\\\Linkedin\\\\mercebrey.png',\n",
       " 'C:\\\\Users\\\\User\\\\Desktop\\\\EdYoda\\\\Machine Learning Module\\\\Datasets\\\\Linkedin\\\\michael-goodman-0a683a220.png',\n",
       " 'C:\\\\Users\\\\User\\\\Desktop\\\\EdYoda\\\\Machine Learning Module\\\\Datasets\\\\Linkedin\\\\mitishah11.png',\n",
       " 'C:\\\\Users\\\\User\\\\Desktop\\\\EdYoda\\\\Machine Learning Module\\\\Datasets\\\\Linkedin\\\\mlegair.png',\n",
       " 'C:\\\\Users\\\\User\\\\Desktop\\\\EdYoda\\\\Machine Learning Module\\\\Datasets\\\\Linkedin\\\\nandini-vaish-00941516a.png',\n",
       " 'C:\\\\Users\\\\User\\\\Desktop\\\\EdYoda\\\\Machine Learning Module\\\\Datasets\\\\Linkedin\\\\nansi-mishra-3a2849113.png',\n",
       " 'C:\\\\Users\\\\User\\\\Desktop\\\\EdYoda\\\\Machine Learning Module\\\\Datasets\\\\Linkedin\\\\neel-vora-14630815a.png',\n",
       " 'C:\\\\Users\\\\User\\\\Desktop\\\\EdYoda\\\\Machine Learning Module\\\\Datasets\\\\Linkedin\\\\neelam-jain.png',\n",
       " 'C:\\\\Users\\\\User\\\\Desktop\\\\EdYoda\\\\Machine Learning Module\\\\Datasets\\\\Linkedin\\\\neeraj-gupta-72a290181.png',\n",
       " 'C:\\\\Users\\\\User\\\\Desktop\\\\EdYoda\\\\Machine Learning Module\\\\Datasets\\\\Linkedin\\\\nicolekyle.png',\n",
       " 'C:\\\\Users\\\\User\\\\Desktop\\\\EdYoda\\\\Machine Learning Module\\\\Datasets\\\\Linkedin\\\\niiato.png',\n",
       " 'C:\\\\Users\\\\User\\\\Desktop\\\\EdYoda\\\\Machine Learning Module\\\\Datasets\\\\Linkedin\\\\nitin-solanki-13aa1710b.png',\n",
       " 'C:\\\\Users\\\\User\\\\Desktop\\\\EdYoda\\\\Machine Learning Module\\\\Datasets\\\\Linkedin\\\\nsodhi4696.png',\n",
       " 'C:\\\\Users\\\\User\\\\Desktop\\\\EdYoda\\\\Machine Learning Module\\\\Datasets\\\\Linkedin\\\\prachi-srivastava-651621213.png',\n",
       " 'C:\\\\Users\\\\User\\\\Desktop\\\\EdYoda\\\\Machine Learning Module\\\\Datasets\\\\Linkedin\\\\prajwal-s-710208212.png',\n",
       " 'C:\\\\Users\\\\User\\\\Desktop\\\\EdYoda\\\\Machine Learning Module\\\\Datasets\\\\Linkedin\\\\pranayloya.png',\n",
       " 'C:\\\\Users\\\\User\\\\Desktop\\\\EdYoda\\\\Machine Learning Module\\\\Datasets\\\\Linkedin\\\\pravsgupta.png',\n",
       " 'C:\\\\Users\\\\User\\\\Desktop\\\\EdYoda\\\\Machine Learning Module\\\\Datasets\\\\Linkedin\\\\prekshak.png',\n",
       " 'C:\\\\Users\\\\User\\\\Desktop\\\\EdYoda\\\\Machine Learning Module\\\\Datasets\\\\Linkedin\\\\prianka-roy-aa0937167.png',\n",
       " 'C:\\\\Users\\\\User\\\\Desktop\\\\EdYoda\\\\Machine Learning Module\\\\Datasets\\\\Linkedin\\\\radhika-bajoria-3102ba158.png',\n",
       " 'C:\\\\Users\\\\User\\\\Desktop\\\\EdYoda\\\\Machine Learning Module\\\\Datasets\\\\Linkedin\\\\radhika-balakrishnan.png',\n",
       " 'C:\\\\Users\\\\User\\\\Desktop\\\\EdYoda\\\\Machine Learning Module\\\\Datasets\\\\Linkedin\\\\ragini-das-95245257.png',\n",
       " 'C:\\\\Users\\\\User\\\\Desktop\\\\EdYoda\\\\Machine Learning Module\\\\Datasets\\\\Linkedin\\\\ragothaman-s-5a8921169.png',\n",
       " 'C:\\\\Users\\\\User\\\\Desktop\\\\EdYoda\\\\Machine Learning Module\\\\Datasets\\\\Linkedin\\\\rajatbhilare.png',\n",
       " 'C:\\\\Users\\\\User\\\\Desktop\\\\EdYoda\\\\Machine Learning Module\\\\Datasets\\\\Linkedin\\\\rashi-yadav-166803218.png',\n",
       " 'C:\\\\Users\\\\User\\\\Desktop\\\\EdYoda\\\\Machine Learning Module\\\\Datasets\\\\Linkedin\\\\rekha-mishra-bb5818152.png',\n",
       " 'C:\\\\Users\\\\User\\\\Desktop\\\\EdYoda\\\\Machine Learning Module\\\\Datasets\\\\Linkedin\\\\rosamaria-guzman-de-mendiburu-asesoria-en-empleabilidad.png',\n",
       " 'C:\\\\Users\\\\User\\\\Desktop\\\\EdYoda\\\\Machine Learning Module\\\\Datasets\\\\Linkedin\\\\ruchi-kumari-b24a901a0.png',\n",
       " 'C:\\\\Users\\\\User\\\\Desktop\\\\EdYoda\\\\Machine Learning Module\\\\Datasets\\\\Linkedin\\\\sahil-vaidya-59592043.png',\n",
       " 'C:\\\\Users\\\\User\\\\Desktop\\\\EdYoda\\\\Machine Learning Module\\\\Datasets\\\\Linkedin\\\\saimadhavraj.png',\n",
       " 'C:\\\\Users\\\\User\\\\Desktop\\\\EdYoda\\\\Machine Learning Module\\\\Datasets\\\\Linkedin\\\\sanjay-kumar-vishwakarma.png',\n",
       " 'C:\\\\Users\\\\User\\\\Desktop\\\\EdYoda\\\\Machine Learning Module\\\\Datasets\\\\Linkedin\\\\sanjaybalikar.png',\n",
       " 'C:\\\\Users\\\\User\\\\Desktop\\\\EdYoda\\\\Machine Learning Module\\\\Datasets\\\\Linkedin\\\\sanjivmehtaunilever.png',\n",
       " 'C:\\\\Users\\\\User\\\\Desktop\\\\EdYoda\\\\Machine Learning Module\\\\Datasets\\\\Linkedin\\\\sarvesh-shashi-23302994.png',\n",
       " 'C:\\\\Users\\\\User\\\\Desktop\\\\EdYoda\\\\Machine Learning Module\\\\Datasets\\\\Linkedin\\\\saurabh-kaushik-a78075225.png',\n",
       " 'C:\\\\Users\\\\User\\\\Desktop\\\\EdYoda\\\\Machine Learning Module\\\\Datasets\\\\Linkedin\\\\sayee-wadkar-6a42a6186.png',\n",
       " 'C:\\\\Users\\\\User\\\\Desktop\\\\EdYoda\\\\Machine Learning Module\\\\Datasets\\\\Linkedin\\\\shaliniprakash.png',\n",
       " 'C:\\\\Users\\\\User\\\\Desktop\\\\EdYoda\\\\Machine Learning Module\\\\Datasets\\\\Linkedin\\\\sharanhegde95.png',\n",
       " 'C:\\\\Users\\\\User\\\\Desktop\\\\EdYoda\\\\Machine Learning Module\\\\Datasets\\\\Linkedin\\\\sharfraj-shaik-353aa4100.png',\n",
       " 'C:\\\\Users\\\\User\\\\Desktop\\\\EdYoda\\\\Machine Learning Module\\\\Datasets\\\\Linkedin\\\\shashwati-p.png',\n",
       " 'C:\\\\Users\\\\User\\\\Desktop\\\\EdYoda\\\\Machine Learning Module\\\\Datasets\\\\Linkedin\\\\shatakshi-sharma-410.png',\n",
       " 'C:\\\\Users\\\\User\\\\Desktop\\\\EdYoda\\\\Machine Learning Module\\\\Datasets\\\\Linkedin\\\\shreyaa-kapoor-95a359105.png',\n",
       " 'C:\\\\Users\\\\User\\\\Desktop\\\\EdYoda\\\\Machine Learning Module\\\\Datasets\\\\Linkedin\\\\shweta-srivastava-6b39031a3.png',\n",
       " 'C:\\\\Users\\\\User\\\\Desktop\\\\EdYoda\\\\Machine Learning Module\\\\Datasets\\\\Linkedin\\\\silvianatale.png',\n",
       " 'C:\\\\Users\\\\User\\\\Desktop\\\\EdYoda\\\\Machine Learning Module\\\\Datasets\\\\Linkedin\\\\sriharsha-undemane.png',\n",
       " 'C:\\\\Users\\\\User\\\\Desktop\\\\EdYoda\\\\Machine Learning Module\\\\Datasets\\\\Linkedin\\\\sudhananda-mohanty-95b8273a.png',\n",
       " 'C:\\\\Users\\\\User\\\\Desktop\\\\EdYoda\\\\Machine Learning Module\\\\Datasets\\\\Linkedin\\\\sukhada-chaudhary.png',\n",
       " 'C:\\\\Users\\\\User\\\\Desktop\\\\EdYoda\\\\Machine Learning Module\\\\Datasets\\\\Linkedin\\\\surbhiisharma.png',\n",
       " 'C:\\\\Users\\\\User\\\\Desktop\\\\EdYoda\\\\Machine Learning Module\\\\Datasets\\\\Linkedin\\\\tanvi-bhasin.png',\n",
       " 'C:\\\\Users\\\\User\\\\Desktop\\\\EdYoda\\\\Machine Learning Module\\\\Datasets\\\\Linkedin\\\\tanya-bahl1.png',\n",
       " 'C:\\\\Users\\\\User\\\\Desktop\\\\EdYoda\\\\Machine Learning Module\\\\Datasets\\\\Linkedin\\\\tapti-chauhan-99068220b.png',\n",
       " 'C:\\\\Users\\\\User\\\\Desktop\\\\EdYoda\\\\Machine Learning Module\\\\Datasets\\\\Linkedin\\\\theg-ifactor.png',\n",
       " 'C:\\\\Users\\\\User\\\\Desktop\\\\EdYoda\\\\Machine Learning Module\\\\Datasets\\\\Linkedin\\\\trapti-singh-1877b5110.png',\n",
       " 'C:\\\\Users\\\\User\\\\Desktop\\\\EdYoda\\\\Machine Learning Module\\\\Datasets\\\\Linkedin\\\\williamschaninger.png',\n",
       " 'C:\\\\Users\\\\User\\\\Desktop\\\\EdYoda\\\\Machine Learning Module\\\\Datasets\\\\Linkedin\\\\yusukefuruichi.png']"
      ]
     },
     "execution_count": 5,
     "metadata": {},
     "output_type": "execute_result"
    }
   ],
   "source": [
    "images = glob.glob(\"C:\\\\Users\\\\User\\\\Desktop\\\\EdYoda\\\\Machine Learning Module\\\\Datasets\\\\Linkedin\\\\*\")\n",
    "\n",
    "images"
   ]
  },
  {
   "cell_type": "code",
   "execution_count": 6,
   "metadata": {},
   "outputs": [
    {
     "data": {
      "text/plain": [
       "['https://www.linkedin.com/in/c%C3%A9line-flores-willers',\n",
       " 'https://www.linkedin.com/in/crist%C3%B3bal-toledo-maya']"
      ]
     },
     "execution_count": 6,
     "metadata": {},
     "output_type": "execute_result"
    }
   ],
   "source": [
    "m = [i for i in links if \"%C3%\" in i]\n",
    "\n",
    "m"
   ]
  },
  {
   "cell_type": "code",
   "execution_count": 7,
   "metadata": {},
   "outputs": [],
   "source": [
    "k = ['https://www.linkedin.com/in/c%C3%A9line-flores-willers',\n",
    " 'https://www.linkedin.com/in/crist%C3%B3bal-toledo-maya']"
   ]
  },
  {
   "cell_type": "code",
   "execution_count": 8,
   "metadata": {},
   "outputs": [],
   "source": [
    "images.remove(k[0])\n",
    "images.remove(k[1])"
   ]
  },
  {
   "cell_type": "code",
   "execution_count": 39,
   "metadata": {},
   "outputs": [
    {
     "data": {
      "text/plain": [
       "[True,\n",
       " False,\n",
       " True,\n",
       " True,\n",
       " False,\n",
       " False,\n",
       " False,\n",
       " False,\n",
       " False,\n",
       " True,\n",
       " True,\n",
       " True,\n",
       " True,\n",
       " False,\n",
       " False,\n",
       " False,\n",
       " True,\n",
       " False,\n",
       " False,\n",
       " True,\n",
       " False,\n",
       " True,\n",
       " False,\n",
       " False,\n",
       " False,\n",
       " False,\n",
       " False,\n",
       " True,\n",
       " False,\n",
       " False,\n",
       " True,\n",
       " True,\n",
       " True,\n",
       " True,\n",
       " True,\n",
       " True,\n",
       " True,\n",
       " False,\n",
       " True,\n",
       " False,\n",
       " True,\n",
       " True,\n",
       " True,\n",
       " False,\n",
       " False,\n",
       " False,\n",
       " False,\n",
       " False,\n",
       " False,\n",
       " True,\n",
       " False,\n",
       " False,\n",
       " False,\n",
       " False,\n",
       " True,\n",
       " True,\n",
       " False,\n",
       " False,\n",
       " False,\n",
       " False,\n",
       " False,\n",
       " True,\n",
       " False,\n",
       " False,\n",
       " False,\n",
       " True,\n",
       " False,\n",
       " True,\n",
       " True,\n",
       " False,\n",
       " False,\n",
       " False,\n",
       " False,\n",
       " False,\n",
       " True,\n",
       " True,\n",
       " False,\n",
       " False,\n",
       " False,\n",
       " False,\n",
       " False,\n",
       " False,\n",
       " False,\n",
       " False,\n",
       " False,\n",
       " True,\n",
       " False,\n",
       " False,\n",
       " False,\n",
       " False,\n",
       " False,\n",
       " True,\n",
       " False,\n",
       " False,\n",
       " False,\n",
       " False,\n",
       " False,\n",
       " True,\n",
       " False,\n",
       " False,\n",
       " False,\n",
       " False,\n",
       " False,\n",
       " False,\n",
       " True,\n",
       " False,\n",
       " False,\n",
       " False,\n",
       " True,\n",
       " False,\n",
       " False,\n",
       " False,\n",
       " False,\n",
       " False,\n",
       " False,\n",
       " False,\n",
       " True,\n",
       " False,\n",
       " True,\n",
       " True]"
      ]
     },
     "execution_count": 39,
     "metadata": {},
     "output_type": "execute_result"
    }
   ],
   "source": [
    "import cv2\n",
    "\n",
    "method = cv2.TM_SQDIFF_NORMED\n",
    "threshold= 0.02\n",
    "\n",
    "# Read the images from the file\n",
    "\n",
    "small_image = cv2.imread(\"C:\\\\Users\\\\User\\\\Desktop\\\\EdYoda\\\\Machine Learning Module\\\\smallimage.png\")\n",
    "\n",
    "results=[]\n",
    "\n",
    "for i in images:\n",
    "    large_image= cv2.imread(i)\n",
    "    result = cv2.matchTemplate(small_image, large_image, method)\n",
    "\n",
    "    min_match = cv2.minMaxLoc(result)[0]\n",
    "    if min_match <= threshold:\n",
    "        fin_result= True\n",
    "    else:\n",
    "        fin_result= False\n",
    "    results.append(fin_result)\n",
    "\n",
    "results"
   ]
  },
  {
   "cell_type": "code",
   "execution_count": 26,
   "metadata": {},
   "outputs": [],
   "source": [
    "df = pd.DataFrame(images, results)"
   ]
  },
  {
   "cell_type": "code",
   "execution_count": 29,
   "metadata": {},
   "outputs": [],
   "source": [
    "df.to_excel('results12345.xlsx')"
   ]
  },
  {
   "cell_type": "code",
   "execution_count": 11,
   "metadata": {},
   "outputs": [],
   "source": [
    "# from PIL import image\n",
    "# import pytesseract \n"
   ]
  },
  {
   "cell_type": "code",
   "execution_count": null,
   "metadata": {},
   "outputs": [],
   "source": [
    "# pytesseract.image_to_string(path)"
   ]
  }
 ],
 "metadata": {
  "kernelspec": {
   "display_name": "base",
   "language": "python",
   "name": "python3"
  },
  "language_info": {
   "codemirror_mode": {
    "name": "ipython",
    "version": 3
   },
   "file_extension": ".py",
   "mimetype": "text/x-python",
   "name": "python",
   "nbconvert_exporter": "python",
   "pygments_lexer": "ipython3",
   "version": "3.9.12"
  },
  "orig_nbformat": 4
 },
 "nbformat": 4,
 "nbformat_minor": 2
}
